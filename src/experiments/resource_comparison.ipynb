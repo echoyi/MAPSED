{
 "cells": [
  {
   "cell_type": "code",
   "execution_count": 25,
   "metadata": {
    "collapsed": true
   },
   "outputs": [],
   "source": [
    "import pandas as pd\n",
    "import seaborn as sn\n",
    "from matplotlib import pyplot as plt"
   ]
  },
  {
   "cell_type": "code",
   "execution_count": 26,
   "outputs": [],
   "source": [
    "sn.set_style('dark')"
   ],
   "metadata": {
    "collapsed": false,
    "pycharm": {
     "name": "#%%\n"
    }
   }
  },
  {
   "cell_type": "code",
   "execution_count": 27,
   "outputs": [],
   "source": [
    "resource_df = pd.read_csv('resources.csv')"
   ],
   "metadata": {
    "collapsed": false,
    "pycharm": {
     "name": "#%%\n"
    }
   }
  },
  {
   "cell_type": "code",
   "execution_count": 28,
   "outputs": [
    {
     "data": {
      "text/plain": "    method  parameter count(k)  training time(s)  inference time(ms)  \\\n0   MAPSED             102.228          1562.442                 342   \n1  NN-CCRF             163.612          1087.240                 304   \n2  DuroNet             136.028          1735.459                 495   \n3  ConvGRU             119.652          2140.794                 389   \n4     CSAN             291.262          1949.958                1110   \n\n   training time(min)  \n0           26.040700  \n1           18.120667  \n2           28.924317  \n3           35.679900  \n4           32.499300  ",
      "text/html": "<div>\n<style scoped>\n    .dataframe tbody tr th:only-of-type {\n        vertical-align: middle;\n    }\n\n    .dataframe tbody tr th {\n        vertical-align: top;\n    }\n\n    .dataframe thead th {\n        text-align: right;\n    }\n</style>\n<table border=\"1\" class=\"dataframe\">\n  <thead>\n    <tr style=\"text-align: right;\">\n      <th></th>\n      <th>method</th>\n      <th>parameter count(k)</th>\n      <th>training time(s)</th>\n      <th>inference time(ms)</th>\n      <th>training time(min)</th>\n    </tr>\n  </thead>\n  <tbody>\n    <tr>\n      <th>0</th>\n      <td>MAPSED</td>\n      <td>102.228</td>\n      <td>1562.442</td>\n      <td>342</td>\n      <td>26.040700</td>\n    </tr>\n    <tr>\n      <th>1</th>\n      <td>NN-CCRF</td>\n      <td>163.612</td>\n      <td>1087.240</td>\n      <td>304</td>\n      <td>18.120667</td>\n    </tr>\n    <tr>\n      <th>2</th>\n      <td>DuroNet</td>\n      <td>136.028</td>\n      <td>1735.459</td>\n      <td>495</td>\n      <td>28.924317</td>\n    </tr>\n    <tr>\n      <th>3</th>\n      <td>ConvGRU</td>\n      <td>119.652</td>\n      <td>2140.794</td>\n      <td>389</td>\n      <td>35.679900</td>\n    </tr>\n    <tr>\n      <th>4</th>\n      <td>CSAN</td>\n      <td>291.262</td>\n      <td>1949.958</td>\n      <td>1110</td>\n      <td>32.499300</td>\n    </tr>\n  </tbody>\n</table>\n</div>"
     },
     "execution_count": 28,
     "metadata": {},
     "output_type": "execute_result"
    }
   ],
   "source": [
    "resource_df['training time(min)']  = resource_df['training time(s)']/60\n",
    "resource_df"
   ],
   "metadata": {
    "collapsed": false,
    "pycharm": {
     "name": "#%%\n"
    }
   }
  },
  {
   "cell_type": "code",
   "execution_count": 29,
   "outputs": [
    {
     "data": {
      "text/plain": "<Figure size 288x180 with 1 Axes>",
      "image/png": "[encoded data removed]"
     },
     "metadata": {},
     "output_type": "display_data"
    }
   ],
   "source": [
    "# markers=['.','x','-','*','+']\n",
    "fig = plt.figure(figsize=(4,2.5))\n",
    "ax = sn.scatterplot(data=resource_df,\n",
    "               x=\"parameter count(k)\",\n",
    "               y=\"training time(s)\",\n",
    "               hue='method', style='method',\n",
    "               markers=True, s=80)\n",
    "ax.legend(title=False)\n",
    "ax.set_xlabel('parameter count(k)',fontsize=15)\n",
    "ax.set_ylabel('time(s)',fontsize=15)\n",
    "plt.savefig('resource-train.pdf',bbox_inches='tight')"
   ],
   "metadata": {
    "collapsed": false,
    "pycharm": {
     "name": "#%%\n"
    }
   }
  },
  {
   "cell_type": "code",
   "execution_count": 30,
   "outputs": [
    {
     "data": {
      "text/plain": "<Figure size 288x180 with 1 Axes>",
      "image/png": "[encoded data removed]"
     },
     "metadata": {},
     "output_type": "display_data"
    }
   ],
   "source": [
    "hatches = ['\\\\','-','+','x','']\n",
    "fig = plt.figure(figsize=(4,2.5))\n",
    "ax = sn.barplot(data=resource_df,\n",
    "           y='inference time(ms)',\n",
    "           x='method')\n",
    "for b,bar in enumerate(ax.patches):\n",
    "    bar.set_hatch(hatches[b])\n",
    "ax.set_xlabel(\"models\", fontsize=15)\n",
    "ax.set_ylabel('time(s)',fontsize=15)\n",
    "plt.savefig('resouces-inference.pdf', bbox_inches='tight')\n",
    "plt.show()"
   ],
   "metadata": {
    "collapsed": false,
    "pycharm": {
     "name": "#%%\n"
    }
   }
  },
  {
   "cell_type": "code",
   "execution_count": 30,
   "outputs": [],
   "source": [],
   "metadata": {
    "collapsed": false,
    "pycharm": {
     "name": "#%%\n"
    }
   }
  }
 ],
 "metadata": {
  "kernelspec": {
   "name": "pycharm-6ec1b404",
   "language": "python",
   "display_name": "PyCharm (MAPSED)"
  },
  "language_info": {
   "codemirror_mode": {
    "name": "ipython",
    "version": 2
   },
   "file_extension": ".py",
   "mimetype": "text/x-python",
   "name": "python",
   "nbconvert_exporter": "python",
   "pygments_lexer": "ipython2",
   "version": "2.7.6"
  }
 },
 "nbformat": 4,
 "nbformat_minor": 0
}