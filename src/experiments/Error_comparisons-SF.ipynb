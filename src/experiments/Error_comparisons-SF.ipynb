{
 "cells": [
  {
   "cell_type": "code",
   "execution_count": 122,
   "metadata": {
    "collapsed": true
   },
   "outputs": [],
   "source": [
    "import torch\n",
    "import numpy as np\n",
    "from src.baselines.csan import CSAN\n",
    "from src.baselines.convGRU.ConvGRU import model\n",
    "from src.baselines.csan.csan_vae import VAE\n",
    "from src.model.mapsed import MAPSED\n",
    "from src.model.vae.conv_vae import ConvVAE\n",
    "from src.utils.load_data import load_seq_data, recover_data_tensor, normalize_data\n",
    "\n"
   ]
  },
  {
   "cell_type": "code",
   "execution_count": 123,
   "outputs": [],
   "source": [
    "seq_train, _, seq_test = load_seq_data('SF')\n",
    "seq_test = seq_test[:32]\n",
    "seq_test_rot = np.ascontiguousarray(np.rot90(seq_test,2,axes=(3,4)))"
   ],
   "metadata": {
    "collapsed": false,
    "pycharm": {
     "name": "#%%\n"
    }
   }
  },
  {
   "cell_type": "markdown",
   "source": [
    "visualize the rotated"
   ],
   "metadata": {
    "collapsed": false,
    "pycharm": {
     "name": "#%% md\n"
    }
   }
  },
  {
   "cell_type": "code",
   "execution_count": 124,
   "outputs": [
    {
     "data": {
      "text/plain": "<Figure size 288x288 with 21 Axes>",
      "image/png": "[encoded data removed]"
     },
     "metadata": {},
     "output_type": "display_data"
    }
   ],
   "source": [
    "import seaborn as sn\n",
    "import matplotlib.pyplot as plt\n",
    "fig,axn = plt.subplots(4,5,figsize=(4,4))\n",
    "plt.subplots_adjust(wspace=0.05,hspace=0.05)\n",
    "cbar_ax = fig.add_axes([.92, .125, .03, .755])\n",
    "idx=0\n",
    "for i in range(4):\n",
    "    for t in range(5):\n",
    "        sn.heatmap(seq_test[0,t,i],\n",
    "        cmap='viridis',\n",
    "        ax=axn.flat[idx],\n",
    "        cbar_kws={'ticks':[]},\n",
    "        cbar_ax=cbar_ax,\n",
    "        xticklabels=False, yticklabels=False)\n",
    "        idx += 1\n",
    "plt.show()"
   ],
   "metadata": {
    "collapsed": false,
    "pycharm": {
     "name": "#%%\n"
    }
   }
  },
  {
   "cell_type": "code",
   "execution_count": 125,
   "outputs": [
    {
     "data": {
      "text/plain": "<Figure size 288x288 with 21 Axes>",
      "image/png": "[encoded data removed]"
     },
     "metadata": {},
     "output_type": "display_data"
    }
   ],
   "source": [
    "fig,axn = plt.subplots(4,5,figsize=(4,4))\n",
    "plt.subplots_adjust(wspace=0.05,hspace=0.05)\n",
    "cbar_ax = fig.add_axes([.92, .125, .03, .755])\n",
    "idx=0\n",
    "for i in range(4):\n",
    "    for t in range(5):\n",
    "        sn.heatmap(seq_test_rot[0,t,i],\n",
    "        cmap='viridis',\n",
    "        ax=axn.flat[idx],\n",
    "        cbar_kws={'ticks':[]},\n",
    "        cbar_ax=cbar_ax,\n",
    "        xticklabels=False, yticklabels=False)\n",
    "        idx += 1\n",
    "plt.show()"
   ],
   "metadata": {
    "collapsed": false,
    "pycharm": {
     "name": "#%%\n"
    }
   }
  },
  {
   "cell_type": "code",
   "execution_count": 126,
   "outputs": [
    {
     "data": {
      "text/plain": "<Figure size 288x360 with 13 Axes>",
      "image/png": "[encoded data removed]"
     },
     "metadata": {},
     "output_type": "display_data"
    }
   ],
   "source": [
    "obs = seq_test_rot[:,:5]\n",
    "gt = seq_test_rot[:,5:]\n",
    "fig,axn = plt.subplots(4,3,figsize=(4,5))\n",
    "plt.subplots_adjust(wspace=0.05,hspace=0.05)\n",
    "cbar_ax = fig.add_axes([.92, .125, .03, .755])\n",
    "idx=0\n",
    "for i in range(4):\n",
    "    for t in range(3):\n",
    "        sn.heatmap(seq_test_rot[0,5+t,i],\n",
    "        cmap='viridis',\n",
    "        ax=axn.flat[idx],\n",
    "        cbar_kws={'ticks':[]},\n",
    "        cbar_ax=cbar_ax,\n",
    "        xticklabels=False, yticklabels=False)\n",
    "        idx += 1\n",
    "plt.show()"
   ],
   "metadata": {
    "collapsed": false,
    "pycharm": {
     "name": "#%%\n"
    }
   }
  },
  {
   "cell_type": "markdown",
   "source": [
    "MAPSED"
   ],
   "metadata": {
    "collapsed": false
   }
  },
  {
   "cell_type": "code",
   "execution_count": 127,
   "outputs": [],
   "source": [
    "def predict(seq, model, normalizer):\n",
    "    output = []\n",
    "    # print(\"updating with data [{}/{}]\".format(idx+1, len(dataloader_train)))\n",
    "    #32,13,4,10,10\n",
    "    seq = torch.tensor(seq).cuda().float()\n",
    "    x = seq[:, :5]\n",
    "    y_pred = model(x)[0].data\n",
    "    output.append(recover_data_tensor(y_pred, max_tensor))\n",
    "    output = torch.cat(output)\n",
    "    return output"
   ],
   "metadata": {
    "collapsed": false,
    "pycharm": {
     "name": "#%%\n"
    }
   }
  },
  {
   "cell_type": "code",
   "execution_count": 128,
   "outputs": [],
   "source": [
    "device = torch.device('cuda')\n",
    "vae = ConvVAE(input_channels=4).to(device)\n",
    "vae.load_state_dict(\n",
    "    torch.load('../../saved_models/SF/VAE-SF.torch'))\n",
    "m = 5\n",
    "n = 3\n",
    "\n",
    "model = MAPSED(vae, latent_shape=(2, 5, 5), m=m, n=n,\n",
    "               lambda_contrast=10, contrast='L2',lambda_MAE=1).to(device)\n",
    "model.load_state_dict(torch.load('../../saved_models/SF/mapsed.torch'))\n",
    "model.training = False\n",
    "model.eval()\n",
    "vae.eval()\n",
    "vae.training = False\n",
    "\n",
    "\n",
    "# mean_tensor = torch.tensor(seq_train.mean(axis=(0,1,3,4))).cuda().float()\n",
    "# mean = seq_train.mean(axis=(0,1,3,4))\n",
    "max = np.array([seq_train[:,:,i].max() for i in range(4)])\n",
    "max_tensor = torch.tensor(max).cuda().float()\n",
    "predicts_MAPSED = predict(seq_test_rot, model, max_tensor).cpu()"
   ],
   "metadata": {
    "collapsed": false,
    "pycharm": {
     "name": "#%%\n"
    }
   }
  },
  {
   "cell_type": "markdown",
   "source": [
    "GRU"
   ],
   "metadata": {
    "collapsed": false,
    "pycharm": {
     "name": "#%% md\n"
    }
   }
  },
  {
   "cell_type": "code",
   "execution_count": 129,
   "outputs": [],
   "source": [
    "from src.baselines.convGRU.ConvGRU import model\n",
    "convLSTM = model().to(device)\n",
    "convLSTM.load_state_dict(torch.load(\n",
    "    '../../saved_models/SF/convLSTM/convLSTM.torch'))\n",
    "pred_GRU = convLSTM(torch.tensor(seq_test[:,:5]).cuda().float()).data.cpu()"
   ],
   "metadata": {
    "collapsed": false,
    "pycharm": {
     "name": "#%%\n"
    }
   }
  },
  {
   "cell_type": "markdown",
   "source": [
    "CSAN"
   ],
   "metadata": {
    "collapsed": false
   }
  },
  {
   "cell_type": "code",
   "execution_count": 130,
   "outputs": [
    {
     "data": {
      "text/plain": "<All keys matched successfully>"
     },
     "execution_count": 130,
     "metadata": {},
     "output_type": "execute_result"
    }
   ],
   "source": [
    "from src.baselines.csan.CSAN import CSAN\n",
    "\n",
    "def encode_seq(x, vae, z_dim, m=15, n=3, bs=32):\n",
    "    # x dim: 13*32*1*10*10\n",
    "    z_x = torch.zeros(size=[m, bs, 1, z_dim * 2])\n",
    "    z_y = torch.zeros(size=[n, bs, 1, z_dim * 2])\n",
    "    for i in range(m):\n",
    "        z_temp, mu, logvar = vae.encode(x[i].unsqueeze(1))\n",
    "        z_temp = torch.cat((mu, logvar), dim=1)\n",
    "        z_x[i] = z_temp.unsqueeze(1)\n",
    "    for j in range(m, m + n):\n",
    "        z_temp, mu, logvar = vae.encode(x[j].unsqueeze(1))\n",
    "        z_temp = torch.cat((mu, logvar), dim=1)\n",
    "        z_y[j - m] = z_temp.unsqueeze(1)\n",
    "    return z_x, z_y\n",
    "\n",
    "\n",
    "def decode_seq(z_y, vae, m=15, n=3, bs=32, z_dim=6):\n",
    "    # z_y: 3*32*1*2z_dim\n",
    "    z_y = z_y.squeeze()\n",
    "    y = torch.zeros(size=[n, bs, 1, 10, 10])\n",
    "    for i in range(z_y.shape[0]):\n",
    "        # First 6 dims is mean\n",
    "        y[i] = vae.decode(z_y[i][:, 0:z_dim])\n",
    "    return y.cuda()\n",
    "\n",
    "\n",
    "\n",
    "\n",
    "def predictC(x, model, vaes, m=5, n=3):\n",
    "    [vae1,vae2,vae3,vae4] = vaes\n",
    "    out =[]\n",
    "    x = torch.tensor(x).transpose(0, 1).cuda().float()\n",
    "    y = x[-n:, :]\n",
    "    # zdim: m*bs*1*zdim\n",
    "    z_x1, _ = encode_seq(x[:, :, 0], vae1, z_dim, m=m, n=n)\n",
    "    z_x2, _ = encode_seq(x[:, :, 1], vae2, z_dim, m=m, n=n)\n",
    "    z_x3, _ = encode_seq(x[:, :, 2], vae3, z_dim, m=m, n=n)\n",
    "    z_x4, _ = encode_seq(x[:, :, 3], vae4, z_dim, m=m, n=n)\n",
    "    # concat, dim: m*bs*4*zdim\n",
    "    z_x = torch.cat((z_x1, z_x2, z_x3, z_x4), 2).unsqueeze(2).cuda()\n",
    "    z_y_pred = model(z_x)\n",
    "    for i in range(4):\n",
    "        y_pred = decode_seq(z_y_pred[:, :, :, i, :], vaes[i], m=m, n=n)\n",
    "        #bs l c w h\n",
    "        out.append(y_pred.transpose(0,1).squeeze().data)\n",
    "    out = torch.stack(out, dim=2)\n",
    "    return out\n",
    "\n",
    "\n",
    "device = torch.device('cuda')\n",
    "input_channels = 1\n",
    "z_dim = 6\n",
    "bs = 32\n",
    "epochs = 20\n",
    "n = 3\n",
    "m = 5\n",
    "csan_losses = []\n",
    "# torch.autograd.set_detect_anomaly(True)\n",
    "csan = CSAN(input_channels=input_channels, bs=32, m=m, n=n, z_dim=z_dim).to(device)\n",
    "vaes = []\n",
    "for i in range(1,5):\n",
    "    vae = VAE(input_channels=input_channels,\n",
    "              z_dim=z_dim, bs=bs).to(device)\n",
    "    path =  '../../saved_models/SF/CSAN/vae{}-ft.torch'.format(i)\n",
    "    vae.load_state_dict(torch.load(path))\n",
    "    vaes.append(vae)\n",
    "\n",
    "csan.load_state_dict(torch.load('../../saved_models/SF/CSAN/csan.torch'))"
   ],
   "metadata": {
    "collapsed": false,
    "pycharm": {
     "name": "#%%\n"
    }
   }
  },
  {
   "cell_type": "code",
   "execution_count": 131,
   "outputs": [],
   "source": [
    "predict_CSAN = predictC(seq_test_rot, csan, vaes)"
   ],
   "metadata": {
    "collapsed": false,
    "pycharm": {
     "name": "#%%\n"
    }
   }
  },
  {
   "cell_type": "markdown",
   "source": [
    "NN-CCRF"
   ],
   "metadata": {
    "collapsed": false,
    "pycharm": {
     "name": "#%% md\n"
    }
   }
  },
  {
   "cell_type": "code",
   "source": [
    "from src.baselines.nn_ccrf.nn_ccrf import NN_CCRF\n",
    "dim_inputs = 100\n",
    "rnn_hidden = 25\n",
    "models_ccrf = [NN_CCRF(dim_inputs, rnn_hidden, rnn_layer=4, num_layer=2).to(torch.device('cuda')) for i in range(4)]\n",
    "c = 0\n",
    "for model in models_ccrf:\n",
    "    model_path = '../../saved_models/SF/NN-CCRF/NN-CCRF-{}.torch'.format(c)\n",
    "    model.load_state_dict(torch.load(model_path))\n",
    "    model.eval()\n",
    "    c += 1\n",
    "def predict_ccrf(x, models):\n",
    "    x = torch.tensor(x).cuda().float()\n",
    "    y_pred = []\n",
    "    for cat in range(4):\n",
    "        inputs = x[:, :, cat].reshape((-1, 5, 100))\n",
    "        y_pred_c = models[cat](inputs).reshape(-1,1,10,10)\n",
    "        y_pred.append(y_pred_c)\n",
    "    return torch.stack(y_pred, dim=2).data.cpu()"
   ],
   "metadata": {
    "collapsed": false,
    "pycharm": {
     "name": "#%%\n"
    }
   },
   "execution_count": 132,
   "outputs": []
  },
  {
   "cell_type": "code",
   "execution_count": 133,
   "outputs": [
    {
     "data": {
      "text/plain": "torch.Size([32, 1, 4, 10, 10])"
     },
     "execution_count": 133,
     "metadata": {},
     "output_type": "execute_result"
    }
   ],
   "source": [
    "predict_CCRF =predict_ccrf(seq_test_rot[:,:5], models_ccrf)\n",
    "predict_CCRF.shape"
   ],
   "metadata": {
    "collapsed": false,
    "pycharm": {
     "name": "#%%\n"
    }
   }
  },
  {
   "cell_type": "markdown",
   "source": [
    "DuroNet"
   ],
   "metadata": {
    "collapsed": false,
    "pycharm": {
     "name": "#%% md\n"
    }
   }
  },
  {
   "cell_type": "code",
   "execution_count": 134,
   "outputs": [],
   "source": [
    "from src.baselines.duronet.drnet import DuroNet\n",
    "\n",
    "models_drnet = [DuroNet(d_word_vec=100, n_layers=2, n_head=2, d_k=6, d_v=6,\n",
    "                      d_model=100, d_inner=6, dropout=0.1, n_position=200,\n",
    "                      seq_len=5, con_size=3, days=3, kernel='stcn',\n",
    "                      kernel_size_tcn=3, kernel_size_scn=2).to(torch.device('cuda')) for i in range(4)]\n",
    "\n",
    "c = 0\n",
    "for model in models_drnet:\n",
    "    model_path = '../../saved_models/{}/DuroNet/DuroNet-{}.torch'.format('SF', c)\n",
    "    model.load_state_dict(torch.load(model_path))\n",
    "    model.eval()\n",
    "    c += 1\n",
    "\n",
    "def predict_drnet(x, models):\n",
    "    y_pred = []\n",
    "    x = torch.tensor(x).cuda().float()\n",
    "    for cat in range(4):\n",
    "        inputs = x[:, :, cat].reshape((-1, 5, 100))\n",
    "        y_pred_c = models[cat](inputs).reshape(-1,1,10,10)\n",
    "        y_pred.append(y_pred_c)\n",
    "    return torch.stack(y_pred, dim=2).data.cpu()"
   ],
   "metadata": {
    "collapsed": false,
    "pycharm": {
     "name": "#%%\n"
    }
   }
  },
  {
   "cell_type": "code",
   "execution_count": 135,
   "outputs": [],
   "source": [
    "predict_DRNET =predict_drnet(seq_test_rot[:,:5], models_drnet)"
   ],
   "metadata": {
    "collapsed": false,
    "pycharm": {
     "name": "#%%\n"
    }
   }
  },
  {
   "cell_type": "markdown",
   "source": [
    "Comparison"
   ],
   "metadata": {
    "collapsed": false,
    "pycharm": {
     "name": "#%% md\n"
    }
   }
  },
  {
   "cell_type": "code",
   "execution_count": 136,
   "outputs": [],
   "source": [
    "# first sample, first frame\n",
    "OG = seq_test[0,5]\n",
    "HIST = obs[0,-1]\n",
    "MAP = predicts_MAPSED.cpu()[0,0]\n",
    "GRU = pred_GRU.cpu()[0,-1]\n",
    "CSAN = predict_CSAN.cpu()[0,0]\n",
    "#new\n",
    "CCRF = predict_CCRF[0,-1]\n",
    "DR = predict_DRNET[0,-1]\n",
    "GT = seq_test_rot[0,5]"
   ],
   "metadata": {
    "collapsed": false,
    "pycharm": {
     "name": "#%%\n"
    }
   }
  },
  {
   "cell_type": "code",
   "execution_count": 137,
   "outputs": [
    {
     "data": {
      "text/plain": "<AxesSubplot:>"
     },
     "execution_count": 137,
     "metadata": {},
     "output_type": "execute_result"
    },
    {
     "data": {
      "text/plain": "<Figure size 432x288 with 2 Axes>",
      "image/png": "[encoded data removed]"
     },
     "metadata": {
      "needs_background": "light"
     },
     "output_type": "display_data"
    }
   ],
   "source": [
    "sn.heatmap(pred_GRU[0,0,3])"
   ],
   "metadata": {
    "collapsed": false,
    "pycharm": {
     "name": "#%%\n"
    }
   }
  },
  {
   "cell_type": "markdown",
   "source": [
    "OBS, PRED"
   ],
   "metadata": {
    "collapsed": false,
    "pycharm": {
     "name": "#%% md\n"
    }
   }
  },
  {
   "cell_type": "code",
   "execution_count": 138,
   "outputs": [
    {
     "data": {
      "text/plain": "(4, 8, 10, 10)"
     },
     "execution_count": 138,
     "metadata": {},
     "output_type": "execute_result"
    }
   ],
   "source": [
    "data = np.stack((OG, HIST,GT, GRU, CSAN, CCRF, DR,  MAP),axis=1)\n",
    "data.shape"
   ],
   "metadata": {
    "collapsed": false,
    "pycharm": {
     "name": "#%%\n"
    }
   }
  },
  {
   "cell_type": "code",
   "execution_count": 139,
   "outputs": [
    {
     "data": {
      "text/plain": "(68.0, 27.0, 37.0, 33.0)"
     },
     "execution_count": 139,
     "metadata": {},
     "output_type": "execute_result"
    }
   ],
   "source": [
    "data[0,2].max(),data[1,2].max(),data[2,2].max(),data[3,2].max()"
   ],
   "metadata": {
    "collapsed": false,
    "pycharm": {
     "name": "#%%\n"
    }
   }
  },
  {
   "cell_type": "code",
   "execution_count": 140,
   "outputs": [
    {
     "data": {
      "text/plain": "(86.53693389892578, 55.61734390258789, 39.28180694580078, 41.4388313293457)"
     },
     "execution_count": 140,
     "metadata": {},
     "output_type": "execute_result"
    }
   ],
   "source": [
    "data[0,3].max(),data[1,3].max(),data[2,3].max(),data[3,3].max()"
   ],
   "metadata": {
    "collapsed": false,
    "pycharm": {
     "name": "#%%\n"
    }
   }
  },
  {
   "cell_type": "code",
   "execution_count": 141,
   "outputs": [
    {
     "data": {
      "text/plain": "(87.5544204711914, 60.14439010620117, 45.629093170166016, 38.05785369873047)"
     },
     "execution_count": 141,
     "metadata": {},
     "output_type": "execute_result"
    }
   ],
   "source": [
    "data[0,4].max(),data[1,4].max(),data[2,4].max(),data[3,4].max()"
   ],
   "metadata": {
    "collapsed": false,
    "pycharm": {
     "name": "#%%\n"
    }
   }
  },
  {
   "cell_type": "code",
   "execution_count": 142,
   "outputs": [
    {
     "data": {
      "text/plain": "(92.57046508789062, 68.70841979980469, 22.830028533935547, 22.886899948120117)"
     },
     "execution_count": 142,
     "metadata": {},
     "output_type": "execute_result"
    }
   ],
   "source": [
    "data[0,5].max(),data[1,5].max(),data[2,5].max(),data[3,5].max()"
   ],
   "metadata": {
    "collapsed": false,
    "pycharm": {
     "name": "#%%\n"
    }
   }
  },
  {
   "cell_type": "code",
   "execution_count": 143,
   "outputs": [
    {
     "data": {
      "text/plain": "(53.98531723022461, 25.808273315429688, 45.5041618347168, 38.43930435180664)"
     },
     "execution_count": 143,
     "metadata": {},
     "output_type": "execute_result"
    }
   ],
   "source": [
    "\n",
    "data[0,6].max(),data[1,6].max(),data[2,6].max(),data[3,6].max()"
   ],
   "metadata": {
    "collapsed": false,
    "pycharm": {
     "name": "#%%\n"
    }
   }
  },
  {
   "cell_type": "code",
   "execution_count": 144,
   "outputs": [
    {
     "data": {
      "text/plain": "<Figure size 648x288 with 33 Axes>",
      "image/png": "[encoded data removed]"
     },
     "metadata": {},
     "output_type": "display_data"
    }
   ],
   "source": [
    "vmaxs=[60,30,30,30]\n",
    "fig, axn = plt.subplots(4,8,sharex=True,sharey=True, figsize=(9,4))\n",
    "plt.subplots_adjust(wspace=0.07,hspace=0.07)\n",
    "cbar_ax = fig.add_axes([.905, .126, .015, .756])\n",
    "idx = 1\n",
    "for i in range(4):\n",
    "    for t in range(8):\n",
    "        # vmax=vmaxs[i]\n",
    "        # vmax=vmax,\n",
    "        if idx == 19:\n",
    "            sn.heatmap(data[i,t],\n",
    "                       cmap='Spectral',\n",
    "                       ax=axn.flat[idx-1], vmax=data[i,t].max(),\n",
    "                       cbar_kws={'ticks':[]},\n",
    "                       cbar_ax=cbar_ax,\n",
    "                       xticklabels=False, yticklabels=False)\n",
    "        else:\n",
    "            sn.heatmap(data[i,t],\n",
    "                       cmap='Spectral',\n",
    "                       ax=axn.flat[idx-1],vmax=data[i,t].max(),\n",
    "                       cbar=False,\n",
    "                       xticklabels=False, yticklabels=False)\n",
    "        idx += 1\n",
    "\n",
    "\n",
    "axn.flat[0].set_ylabel('Theft',fontsize=10)\n",
    "axn.flat[8].set_ylabel('Other', fontsize=10)\n",
    "axn.flat[16].set_ylabel('NC',fontsize=10)\n",
    "axn.flat[24].set_ylabel('Assault',fontsize=10)\n",
    "\n",
    "axn.flat[24].set_xlabel('Train',rotation='horizontal',fontsize=10)\n",
    "axn.flat[25].set_xlabel('Test',rotation='horizontal',fontsize=10)\n",
    "axn.flat[26].set_xlabel('Ground\\ntruth',rotation='horizontal',fontsize=10)\n",
    "\n",
    "axn.flat[27].set_xlabel('ConvGRU',rotation='horizontal',fontsize=10)\n",
    "axn.flat[28].set_xlabel('CSAN',rotation='horizontal',fontsize=10)\n",
    "axn.flat[29].set_xlabel('NN-CCRF',rotation='horizontal',fontsize=10)\n",
    "axn.flat[30].set_xlabel('DuroNet',rotation='horizontal',fontsize=10)\n",
    "axn.flat[31].set_xlabel('MAPSED',rotation='horizontal',fontsize=10)\n",
    "\n",
    "fig.suptitle('Models',fontsize=13,x=0.70,y=0.03)\n",
    "fig.align_ylabels(axn[:0])\n",
    "fig.text(0.09,0.5, 'Event category',rotation='vertical',\n",
    "         va='center',ha='center',fontsize=13)\n",
    "\n",
    "fig.add_artist(plt.Line2D([0.415,0.415],[0.08,0.875],\n",
    "                          color='black',linestyle='--'))\n",
    "\n",
    "plt.autoscale()\n",
    "\n",
    "\n",
    "plt.savefig('SF-Rot-output.pdf',bbox_inches='tight')"
   ],
   "metadata": {
    "collapsed": false,
    "pycharm": {
     "name": "#%%\n"
    }
   }
  },
  {
   "cell_type": "markdown",
   "source": [
    "ERROR\n"
   ],
   "metadata": {
    "collapsed": false,
    "pycharm": {
     "name": "#%% md\n"
    }
   }
  },
  {
   "cell_type": "code",
   "execution_count": 145,
   "outputs": [
    {
     "data": {
      "text/plain": "(4, 5, 10, 10)"
     },
     "execution_count": 145,
     "metadata": {},
     "output_type": "execute_result"
    }
   ],
   "source": [
    "GT = seq_test_rot[0,5]\n",
    "data_err = np.stack((np.abs(GRU-GT),\n",
    "                     np.abs(CSAN-GT),\n",
    "                     np.abs(CCRF-GT),\n",
    "                     np.abs(DR-GT),\n",
    "                     np.abs(MAP-GT)),axis=1)\n",
    "data_err.shape"
   ],
   "metadata": {
    "collapsed": false,
    "pycharm": {
     "name": "#%%\n"
    }
   }
  },
  {
   "cell_type": "code",
   "execution_count": 146,
   "outputs": [
    {
     "data": {
      "text/plain": "(tensor(26.9217, dtype=torch.float64),\n tensor(81.5369, dtype=torch.float64),\n tensor(82.5544, dtype=torch.float64),\n tensor(65.2575, dtype=torch.float64))"
     },
     "execution_count": 146,
     "metadata": {},
     "output_type": "execute_result"
    }
   ],
   "source": [
    "np.abs(MAP-GT).max(), np.abs(GRU-GT).max(), np.abs(CSAN-GT).max(), np.abs(DR-GT).max()"
   ],
   "metadata": {
    "collapsed": false,
    "pycharm": {
     "name": "#%%\n"
    }
   }
  },
  {
   "cell_type": "code",
   "execution_count": 147,
   "outputs": [
    {
     "data": {
      "text/plain": "<Figure size 432x288 with 21 Axes>",
      "image/png": "[encoded data removed]"
     },
     "metadata": {},
     "output_type": "display_data"
    }
   ],
   "source": [
    "vmaxs=[30,30,20,15]\n",
    "fig, axn = plt.subplots(4,5,sharex=True,sharey=True, figsize=(6,4))\n",
    "plt.subplots_adjust(wspace=0.05,hspace=0.05)\n",
    "cbar_ax = fig.add_axes([.905, .125, .025, .755])\n",
    "idx = 1\n",
    "for i in range(4):\n",
    "    for t in range(0,5):\n",
    "        vmax=vmaxs[i]\n",
    "        cmap = 'viridis'\n",
    "        if idx == 12:\n",
    "            sn.heatmap(data_err[i,t],\n",
    "                       cmap=cmap,vmax=vmax,\n",
    "                       ax=axn.flat[idx-1],\n",
    "                       cbar_kws={'ticks':[]},\n",
    "                       cbar_ax=cbar_ax,\n",
    "                       xticklabels=False, yticklabels=False)\n",
    "        else:\n",
    "            sn.heatmap(data_err[i,t],\n",
    "                       cmap=cmap,vmax=vmax,\n",
    "                       ax=axn.flat[idx-1],\n",
    "                       cbar=False,\n",
    "                       xticklabels=False, yticklabels=False)\n",
    "        idx += 1\n",
    "\n",
    "\n",
    "# axn.flat[0].set_ylabel('Theft',fontsize=10)\n",
    "# axn.flat[3].set_ylabel('Other', fontsize=10)\n",
    "# axn.flat[6].set_ylabel('NC',fontsize=10)\n",
    "# axn.flat[9].set_ylabel('Assault',fontsize=10)\n",
    "\n",
    "axn.flat[15].set_xlabel('ConvGRU',rotation='horizontal',fontsize=10)\n",
    "axn.flat[16].set_xlabel('CSAN',rotation='horizontal',fontsize=10)\n",
    "axn.flat[17].set_xlabel('NN-CCRF',rotation='horizontal',fontsize=10)\n",
    "axn.flat[18].set_xlabel('DuroNet',rotation='horizontal',fontsize=10)\n",
    "axn.flat[19].set_xlabel('MAPSED',rotation='horizontal',fontsize=10)\n",
    "\n",
    "fig.suptitle('Models',fontsize=13,x=0.5,y=0.03)\n",
    "fig.align_ylabels(axn[:0])\n",
    "# fig.text(0,0.5, 'Event category',rotation='vertical',\n",
    "#          va='center',ha='center',fontsize=13)\n",
    "\n",
    "plt.autoscale()\n",
    "\n",
    "# plt.tight_layout()\n",
    "\n",
    "\n",
    "plt.savefig('SF-Rot-error.pdf',bbox_inches='tight')"
   ],
   "metadata": {
    "collapsed": false,
    "pycharm": {
     "name": "#%%\n"
    }
   }
  },
  {
   "cell_type": "code",
   "execution_count": 148,
   "outputs": [
    {
     "data": {
      "text/plain": "(68.0, 27.0, 37.0, 33.0)"
     },
     "execution_count": 148,
     "metadata": {},
     "output_type": "execute_result"
    }
   ],
   "source": [
    "data[0,0].max(),data[1,0].max(),data[2,0].max(),data[3,0].max()"
   ],
   "metadata": {
    "collapsed": false,
    "pycharm": {
     "name": "#%%\n"
    }
   }
  },
  {
   "cell_type": "code",
   "execution_count": 149,
   "outputs": [
    {
     "data": {
      "text/plain": "(69.0, 46.0, 45.0, 28.0)"
     },
     "execution_count": 149,
     "metadata": {},
     "output_type": "execute_result"
    }
   ],
   "source": [
    "data[0,1].max(),data[1,1].max(),data[2,1].max(),data[3,1].max()"
   ],
   "metadata": {
    "collapsed": false,
    "pycharm": {
     "name": "#%%\n"
    }
   }
  },
  {
   "cell_type": "code",
   "execution_count": 150,
   "outputs": [
    {
     "data": {
      "text/plain": "(68.0, 27.0, 37.0, 33.0)"
     },
     "execution_count": 150,
     "metadata": {},
     "output_type": "execute_result"
    }
   ],
   "source": [
    "data[0,2].max(),data[1,2].max(),data[2,2].max(),data[3,2].max(),"
   ],
   "metadata": {
    "collapsed": false,
    "pycharm": {
     "name": "#%%\n"
    }
   }
  },
  {
   "cell_type": "code",
   "execution_count": 151,
   "outputs": [
    {
     "data": {
      "text/plain": "(86.53693389892578, 55.61734390258789, 39.28180694580078, 41.4388313293457)"
     },
     "execution_count": 151,
     "metadata": {},
     "output_type": "execute_result"
    }
   ],
   "source": [
    "data[0,3].max(),data[1,3].max(),data[2,3].max(),data[3,3].max()"
   ],
   "metadata": {
    "collapsed": false,
    "pycharm": {
     "name": "#%%\n"
    }
   }
  },
  {
   "cell_type": "code",
   "execution_count": 152,
   "outputs": [
    {
     "data": {
      "text/plain": "(87.5544204711914, 60.14439010620117, 45.629093170166016, 38.05785369873047)"
     },
     "execution_count": 152,
     "metadata": {},
     "output_type": "execute_result"
    }
   ],
   "source": [
    "data[0,4].max(),data[1,4].max(),data[2,4].max(),data[3,4].max()\n",
    "\n"
   ],
   "metadata": {
    "collapsed": false,
    "pycharm": {
     "name": "#%%\n"
    }
   }
  }
 ],
 "metadata": {
  "kernelspec": {
   "name": "pycharm-6ec1b404",
   "language": "python",
   "display_name": "PyCharm (MAPSED)"
  },
  "language_info": {
   "codemirror_mode": {
    "name": "ipython",
    "version": 2
   },
   "file_extension": ".py",
   "mimetype": "text/x-python",
   "name": "python",
   "nbconvert_exporter": "python",
   "pygments_lexer": "ipython2",
   "version": "2.7.6"
  }
 },
 "nbformat": 4,
 "nbformat_minor": 0
}