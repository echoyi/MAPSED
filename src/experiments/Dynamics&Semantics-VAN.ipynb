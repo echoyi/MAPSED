{
 "cells": [
  {
   "cell_type": "code",
   "execution_count": 1,
   "outputs": [],
   "source": [
    "import torch\n",
    "from torch.utils.data import DataLoader\n",
    "from src.model.mapsed import MAPSED\n",
    "from src.model.vae.conv_vae import ConvVAE\n",
    "from src.utils.calculate_seq_loss import calculate_seq_loss\n",
    "from src.utils.load_data import load_seq_data, \\\n",
    "    normalize_data_tensor, recover_data_tensor, normalize_data\n",
    "import numpy as np\n",
    "import pandas as pd\n"
   ],
   "metadata": {
    "collapsed": false,
    "pycharm": {
     "name": "#%%\n"
    }
   }
  },
  {
   "cell_type": "code",
   "execution_count": 2,
   "outputs": [],
   "source": [
    "def evaluate(dataloader, model, metric):\n",
    "    targets = []\n",
    "    predicts = []\n",
    "    inputs = []\n",
    "    for idx, seq in enumerate(dataloader):\n",
    "        # print(\"updating with data [{}/{}]\".format(idx+1, len(dataloader_train)))\n",
    "        #32,13,4,10,10\n",
    "        seq = seq.cuda().float()\n",
    "        x = seq[:, :5]\n",
    "        gt = seq[:, 5:]\n",
    "        y_pred = model(x)[0].data\n",
    "        inputs.append(x)\n",
    "        predicts.append(y_pred)\n",
    "        targets.append(gt)\n",
    "    predicts = torch.cat(predicts)\n",
    "    targets = torch.cat(targets)\n",
    "    inputs = torch.cat(inputs)\n",
    "    loss = {m: None for m in metric}\n",
    "    for m in metric:\n",
    "        loss[m] = calculate_seq_loss(predicts, targets, m)\n",
    "    loss_means = {m: loss[m].mean(axis=0) for m in metric}\n",
    "    loss_vars = {m: loss[m].var(axis=0) for m in metric}\n",
    "    loss_mean_and_var = {m: np.stack([loss_means[m], loss_vars[m]])\n",
    "                         for m in metric}\n",
    "    return loss, loss_mean_and_var, predicts, targets, inputs"
   ],
   "metadata": {
    "collapsed": false,
    "pycharm": {
     "name": "#%%\n"
    }
   }
  },
  {
   "cell_type": "code",
   "execution_count": 3,
   "outputs": [],
   "source": [
    "def predict(seq, model, max_tensor):\n",
    "    output = []\n",
    "    # print(\"updating with data [{}/{}]\".format(idx+1, len(dataloader_train)))\n",
    "    #32,13,4,10,10\n",
    "    seq = torch.tensor(seq).cuda().float()\n",
    "    x = seq[:, :5]\n",
    "    y_pred = model(x)[0].data\n",
    "    output.append(recover_data_tensor(y_pred, max_tensor))\n",
    "    output = torch.cat(output)\n",
    "    return output\n"
   ],
   "metadata": {
    "collapsed": false,
    "pycharm": {
     "name": "#%%\n"
    }
   }
  },
  {
   "cell_type": "code",
   "execution_count": 4,
   "metadata": {
    "collapsed": true
   },
   "outputs": [],
   "source": [
    "device = torch.device('cuda')\n",
    "vae = ConvVAE(input_channels=4).to(device)\n",
    "vae.load_state_dict(\n",
    "    torch.load('../../saved_models/VAN/VAE-VAN.torch'))\n",
    "m = 5\n",
    "n = 3\n",
    "\n",
    "model = MAPSED(vae, latent_shape=(2, 5, 5), m=m, n=n,\n",
    "               lambda_contrast=10, contrast='L2',lambda_MAE=1).to(device)\n",
    "model.load_state_dict(torch.load('../../saved_models/VAN/MAPSED.torch'))\n",
    "model.training = False\n",
    "model.eval()\n",
    "vae.eval()\n",
    "vae.training = False\n",
    "seq_train, _, seq_test = load_seq_data('VAN')\n",
    "\n",
    "mean_tensor = torch.tensor(seq_train.mean(axis=(0,1,3,4))).cuda().float()\n",
    "mean = seq_train.mean(axis=(0,1,3,4))"
   ]
  },
  {
   "cell_type": "markdown",
   "source": [
    "# Semantics learning"
   ],
   "metadata": {
    "collapsed": false,
    "pycharm": {
     "name": "#%% md\n"
    }
   }
  },
  {
   "cell_type": "code",
   "execution_count": 5,
   "outputs": [
    {
     "data": {
      "text/plain": "array([2.43149495, 1.02455051, 0.73700379, 0.90822727])"
     },
     "execution_count": 5,
     "metadata": {},
     "output_type": "execute_result"
    }
   ],
   "source": [
    "seq_test.mean(axis=(0,1,3,4))"
   ],
   "metadata": {
    "collapsed": false,
    "pycharm": {
     "name": "#%%\n"
    }
   }
  },
  {
   "cell_type": "code",
   "execution_count": 6,
   "outputs": [],
   "source": [
    "seq_test = seq_test[:32]\n",
    "N, l, c, w, h = seq_test.shape\n",
    "seq_test_noramlized = normalize_data(seq_test, mean)\n",
    "seq_test_one_channel_val = np.sum(seq_test_noramlized, axis=2, keepdims=True)\n",
    "seq_test_one_channel_0 = np.concatenate((seq_test_one_channel_val,\n",
    "                                      np.zeros((N,l,c-1,w,h))),\n",
    "                                      axis=2)\n",
    "seq_test_one_channel_1 = np.concatenate((np.zeros((N,l,1,w,h)),\n",
    "                                       seq_test_one_channel_val,\n",
    "                                      np.zeros((N,l,c-2,w,h))),\n",
    "                                      axis=2)\n",
    "seq_test_one_channel_2 = np.concatenate((np.zeros((N,l,2,w,h)),\n",
    "                                       seq_test_one_channel_val,\n",
    "                                      np.zeros((N,l,c-3,w,h))),\n",
    "                                      axis=2)\n",
    "seq_test_one_channel_3 = np.concatenate((np.zeros((N,l,3,w,h)),\n",
    "                                       seq_test_one_channel_val),\n",
    "                                      axis=2)\n",
    "\n",
    "\n",
    "\n",
    "seq_test_one_channels = [seq_test_one_channel_0,\n",
    "                         seq_test_one_channel_1,\n",
    "                         seq_test_one_channel_2,\n",
    "                         seq_test_one_channel_3]"
   ],
   "metadata": {
    "collapsed": false,
    "pycharm": {
     "name": "#%%\n"
    }
   }
  },
  {
   "cell_type": "code",
   "execution_count": 7,
   "outputs": [],
   "source": [
    "import seaborn as sn\n",
    "from matplotlib import pyplot as plt\n",
    "\n",
    "def plot_predictions(predicts, name, vmax=None):\n",
    "    fig, axn = plt.subplots(4,3, sharex=True, sharey=True, figsize=(5,5))\n",
    "    cbar_ax = fig.add_axes([.99, .3, .03, .4])\n",
    "    idx = 1\n",
    "    for i in range(4):\n",
    "        for t in range(3):\n",
    "            # plt.subplot(4, 3, (t+ 3*i + 1))\n",
    "            if vmax is None:\n",
    "                vmax = np.round(predicts.cpu().max())\n",
    "            sn.heatmap(predicts.view(-1,3,4,10,10).cpu()[0,t,i],\n",
    "                       cmap='Spectral',vmax=vmax, ax=axn.flat[idx-1],\n",
    "                       cbar_ax=cbar_ax,xticklabels=False, yticklabels=False)\n",
    "            idx += 1\n",
    "    fig.tight_layout()\n",
    "    plt.savefig('{}.pdf'.format(name))\n",
    "    return None\n",
    "\n"
   ],
   "metadata": {
    "collapsed": false,
    "pycharm": {
     "name": "#%%\n"
    }
   }
  },
  {
   "cell_type": "code",
   "execution_count": 8,
   "outputs": [],
   "source": [
    "predicts_array = []"
   ],
   "metadata": {
    "collapsed": false,
    "pycharm": {
     "name": "#%%\n"
    }
   }
  },
  {
   "cell_type": "code",
   "execution_count": 9,
   "outputs": [
    {
     "name": "stdout",
     "output_type": "stream",
     "text": [
      "tensor([4.0211, 1.0809, 1.2339, 0.4115], device='cuda:0')\n",
      "tensor(60.0977, device='cuda:0')\n",
      "tensor(10.8788, device='cuda:0')\n",
      "tensor(5.6912, device='cuda:0')\n",
      "tensor(13.5393, device='cuda:0')\n"
     ]
    }
   ],
   "source": [
    "# test_data_loader= DataLoader(seq_test, batch_size=32, shuffle=True, drop_last=True)\n",
    "metric = ['MAE']\n",
    "predicts = predict(seq_test, model, mean_tensor)\n",
    "print(predicts.mean(dim=(0,1,3,4)))\n",
    "# plot_predictions(predicts, 'predict_normal',vmax=75)\n",
    "\n",
    "\n",
    "print(predicts[0,:,0].max())\n",
    "\n",
    "print(predicts[0,:,1].max())\n",
    "\n",
    "print(predicts[0,:,2].max())\n",
    "\n",
    "print(predicts[0,:,3].max())"
   ],
   "metadata": {
    "collapsed": false,
    "pycharm": {
     "name": "#%%\n"
    }
   }
  },
  {
   "cell_type": "code",
   "execution_count": 10,
   "outputs": [
    {
     "name": "stdout",
     "output_type": "stream",
     "text": [
      "tensor([4.2659, 1.0649, 1.2036, 0.4350], device='cuda:0')\n",
      "tensor(65.1126, device='cuda:0')\n",
      "tensor(10.0812, device='cuda:0')\n",
      "tensor(5.5084, device='cuda:0')\n",
      "tensor(12.6013, device='cuda:0')\n"
     ]
    }
   ],
   "source": [
    "predicts = predict(seq_test_one_channels[0], model, mean_tensor)\n",
    "print(predicts.mean(dim=(0,1,3,4)))\n",
    "predicts_array.append(predicts)\n",
    "# plot_predictions(predicts, 'predict_channel_{}'.format(0), vmax=120)\n",
    "print(predicts[0,:,0].max())\n",
    "\n",
    "print(predicts[0,:,1].max())\n",
    "\n",
    "print(predicts[0,:,2].max())\n",
    "\n",
    "print(predicts[0,:,3].max())"
   ],
   "metadata": {
    "collapsed": false,
    "pycharm": {
     "name": "#%%\n"
    }
   }
  },
  {
   "cell_type": "code",
   "execution_count": 11,
   "outputs": [
    {
     "name": "stdout",
     "output_type": "stream",
     "text": [
      "tensor([1.9577, 1.0534, 0.7527, 0.2705], device='cuda:0')\n",
      "tensor(32.5039, device='cuda:0')\n",
      "tensor(21.1444, device='cuda:0')\n",
      "tensor(4.1901, device='cuda:0')\n",
      "tensor(7.6870, device='cuda:0')\n"
     ]
    }
   ],
   "source": [
    "predicts = predict(seq_test_one_channels[1], model, mean_tensor)\n",
    "print(predicts.mean(dim=(0,1,3,4)))\n",
    "# plot_predictions(predicts, 'predict_channel_{}'.format(1),vmax=115)\n",
    "predicts_array.append(predicts)\n",
    "print(predicts[0,:,0].max())\n",
    "\n",
    "print(predicts[0,:,1].max())\n",
    "\n",
    "print(predicts[0,:,2].max())\n",
    "\n",
    "print(predicts[0,:,3].max())"
   ],
   "metadata": {
    "collapsed": false,
    "pycharm": {
     "name": "#%%\n"
    }
   }
  },
  {
   "cell_type": "code",
   "execution_count": 12,
   "outputs": [
    {
     "name": "stdout",
     "output_type": "stream",
     "text": [
      "tensor([5.0864, 1.4959, 2.5848, 0.1710], device='cuda:0')\n",
      "tensor(41.7896, device='cuda:0')\n",
      "tensor(13.7027, device='cuda:0')\n",
      "tensor(12.4507, device='cuda:0')\n",
      "tensor(3.8455, device='cuda:0')\n"
     ]
    }
   ],
   "source": [
    "predicts = predict(seq_test_one_channels[2], model, mean_tensor)\n",
    "print(predicts.mean(dim=(0,1,3,4)))\n",
    "# plot_predictions(predicts, 'predict_channel_{}'.format(2),vmax=45)\n",
    "\n",
    "predicts_array.append(predicts)\n",
    "# print(predicts[0,:,0].max())\n",
    "#\n",
    "# print(predicts[0,:,1].max())\n",
    "#\n",
    "# print(predicts[0,:,2].max())\n",
    "#\n",
    "# print(predicts[0,:,3].max())\n",
    "print(predicts[0,0,0].max())\n",
    "\n",
    "print(predicts[0,0,1].max())\n",
    "\n",
    "print(predicts[0,0,2].max())\n",
    "\n",
    "print(predicts[0,0,3].max())"
   ],
   "metadata": {
    "collapsed": false,
    "pycharm": {
     "name": "#%%\n"
    }
   }
  },
  {
   "cell_type": "code",
   "execution_count": 12,
   "outputs": [],
   "source": [],
   "metadata": {
    "collapsed": false,
    "pycharm": {
     "name": "#%%\n"
    }
   }
  },
  {
   "cell_type": "code",
   "execution_count": 13,
   "outputs": [
    {
     "name": "stdout",
     "output_type": "stream",
     "text": [
      "tensor([1.2350, 0.6247, 0.4975, 1.1471], device='cuda:0')\n",
      "tensor(7.7701, device='cuda:0')\n",
      "tensor(4.1312, device='cuda:0')\n",
      "tensor(1.9830, device='cuda:0')\n",
      "tensor(21.6211, device='cuda:0')\n"
     ]
    }
   ],
   "source": [
    "predicts = predict(seq_test_one_channels[3], model, mean_tensor)\n",
    "print(predicts.mean(dim=(0,1,3,4)))\n",
    "# plot_predictions(predicts, 'predict_channel_{}'.format(3),vmax=35)\n",
    "\n",
    "print(predicts[0,0,0].max())\n",
    "\n",
    "print(predicts[0,0,1].max())\n",
    "\n",
    "print(predicts[0,0,2].max())\n",
    "\n",
    "print(predicts[0,0,3].max())\n",
    "predicts_array.append(predicts)"
   ],
   "metadata": {
    "collapsed": false,
    "pycharm": {
     "name": "#%%\n"
    }
   }
  },
  {
   "cell_type": "code",
   "execution_count": 14,
   "outputs": [
    {
     "name": "stdout",
     "output_type": "stream",
     "text": [
      "tensor(7.7701, device='cuda:0')\n",
      "tensor(4.1312, device='cuda:0')\n",
      "tensor(1.9830, device='cuda:0')\n",
      "tensor(21.6211, device='cuda:0')\n"
     ]
    }
   ],
   "source": [
    "print(predicts[0,0,0].max())\n",
    "\n",
    "print(predicts[0,0,1].max())\n",
    "\n",
    "print(predicts[0,0,2].max())\n",
    "\n",
    "print(predicts[0,0,3].max())"
   ],
   "metadata": {
    "collapsed": false,
    "pycharm": {
     "name": "#%%\n"
    }
   }
  },
  {
   "cell_type": "code",
   "execution_count": 15,
   "outputs": [
    {
     "data": {
      "text/plain": "torch.Size([32, 3, 4, 10, 10])"
     },
     "execution_count": 15,
     "metadata": {},
     "output_type": "execute_result"
    }
   ],
   "source": [
    "predicts.shape\n"
   ],
   "metadata": {
    "collapsed": false,
    "pycharm": {
     "name": "#%%\n"
    }
   }
  },
  {
   "cell_type": "code",
   "execution_count": 16,
   "outputs": [
    {
     "name": "stdout",
     "output_type": "stream",
     "text": [
      "torch.Size([4, 32, 3, 4, 10, 10])\n"
     ]
    }
   ],
   "source": [
    "predicts_all = torch.stack(predicts_array)\n",
    "\n",
    "print(predicts_all.shape)\n",
    "predicts_all = predicts_all[:,0,0]\n",
    "predicts_all = predicts_all.transpose(0,1)\n",
    "# plt.savefig('{}.pdf'.format(name))"
   ],
   "metadata": {
    "collapsed": false,
    "pycharm": {
     "name": "#%%\n"
    }
   }
  },
  {
   "cell_type": "code",
   "execution_count": 17,
   "outputs": [
    {
     "data": {
      "text/plain": "<Figure size 288x288 with 17 Axes>",
      "image/png": "[encoded data removed]"
     },
     "metadata": {},
     "output_type": "display_data"
    }
   ],
   "source": [
    "fig, axn = plt.subplots(4,4,sharex=True, sharey=True, figsize=(4,4))\n",
    "plt.subplots_adjust(wspace=0.05,hspace=0.05)\n",
    "cbar_ax = fig.add_axes([.92, .125, .03, .755])\n",
    "idx = 1\n",
    "vmax_array = [60,20,13,20]\n",
    "for i in range(4):\n",
    "    for t in range(4):\n",
    "        # plt.subplot(4, 3, (t+ 3*i + 1))\n",
    "        vmax = vmax_array[t]\n",
    "        if idx == 11:\n",
    "            sn.heatmap(predicts_all.cpu()[i,t],\n",
    "                       cmap='Spectral',vmax=vmax,\n",
    "                       ax=axn.flat[idx-1],\n",
    "                       cbar_kws={'ticks':[]},\n",
    "                       cbar_ax=cbar_ax,\n",
    "                       xticklabels=False, yticklabels=False)\n",
    "        else:\n",
    "            sn.heatmap(predicts_all.cpu()[i,t],\n",
    "                       cmap='Spectral',vmax=vmax,\n",
    "                       ax=axn.flat[idx-1],\n",
    "                       cbar=False,\n",
    "                       xticklabels=False, yticklabels=False)\n",
    "        idx += 1\n",
    "\n",
    "\n",
    "axn.flat[0].set_ylabel('Vehicle',fontsize=13)\n",
    "axn.flat[4].set_ylabel('Mischief', fontsize=13)\n",
    "axn.flat[8].set_ylabel('Burglary',fontsize=13)\n",
    "axn.flat[12].set_ylabel('Personal',fontsize=13)\n",
    "\n",
    "axn.flat[12].set_xlabel('Vehicle',rotation='horizontal',fontsize=13)\n",
    "# axn.flat[0].xaxis.set_label_position('top')\n",
    "axn.flat[13].set_xlabel('Mischief',rotation='horizontal',fontsize=13)\n",
    "# axn.flat[1].xaxis.set_label_position('top')\n",
    "axn.flat[14].set_xlabel('Burglary',rotation='horizontal',fontsize=13)\n",
    "# axn.flat[2].xaxis.set_label_position('top')\n",
    "axn.flat[15].set_xlabel('Personal',rotation='horizontal',fontsize=13)\n",
    "# axn.flat[3].xaxis.set_label_position('top')\n",
    "\n",
    "fig.suptitle('Input event category',fontsize=13,x=0.52,y=0.03)\n",
    "fig.align_ylabels(axn[:0])\n",
    "fig.text(0,0.48, 'Output event category',rotation='vertical',\n",
    "         va='center',ha='center',fontsize=13)\n",
    "plt.autoscale()\n",
    "\n",
    "# plt.tight_layout()\n",
    "\n",
    "plt.savefig('VAN-semantics.pdf',bbox_inches='tight')\n"
   ],
   "metadata": {
    "collapsed": false,
    "pycharm": {
     "name": "#%%\n"
    }
   }
  },
  {
   "cell_type": "markdown",
   "source": [
    "# Dynamics: move around\n"
   ],
   "metadata": {
    "collapsed": false,
    "pycharm": {
     "name": "#%% md\n"
    }
   }
  },
  {
   "cell_type": "code",
   "execution_count": 18,
   "outputs": [],
   "source": [
    "seq_test_noramlized = normalize_data(seq_test,mean)\n",
    "N, l, c, w, h = seq_test_noramlized.shape\n",
    "seq_test_one_space_values = np.max(seq_test_noramlized, axis=(3,4))\n",
    "seq_test_one_space = np.zeros(seq_test_noramlized.shape)\n",
    "\n",
    "for i in range(5):\n",
    "    seq_test_one_space[:,i,:,3+i,3+i] = seq_test_one_space_values[:,i]\n",
    "# seq_test_one_space"
   ],
   "metadata": {
    "collapsed": false,
    "pycharm": {
     "name": "#%%\n"
    }
   }
  },
  {
   "cell_type": "code",
   "execution_count": 19,
   "outputs": [],
   "source": [
    "# seq_test_one_space[0,4,0].nonzero()\n",
    "# seq_test_one_space_values[0,:,0]"
   ],
   "metadata": {
    "collapsed": false,
    "pycharm": {
     "name": "#%%\n"
    }
   }
  },
  {
   "cell_type": "code",
   "execution_count": 20,
   "outputs": [
    {
     "data": {
      "text/plain": "(12, 100)"
     },
     "execution_count": 20,
     "metadata": {},
     "output_type": "execute_result"
    }
   ],
   "source": [
    "#3,4,10,10\n",
    "pred = predict(seq_test_one_space[:32],model,mean_tensor).cpu()\n",
    "predicts_d=np.array(pred)[0]\n",
    "predicts_d = predicts_d.reshape((-1,100))\n",
    "predicts_d.shape"
   ],
   "metadata": {
    "collapsed": false,
    "pycharm": {
     "name": "#%%\n"
    }
   }
  },
  {
   "cell_type": "code",
   "execution_count": 21,
   "outputs": [
    {
     "data": {
      "text/plain": "(12, 100)"
     },
     "execution_count": 21,
     "metadata": {},
     "output_type": "execute_result"
    }
   ],
   "source": [
    "mask_values = np.array([predicts_d[i][np.argsort(predicts_d[i])][-2]\n",
    "               for i in range(12)])\n",
    "mask_values = np.stack([mask_values for _ in range(100)], axis=1)\n",
    "mask_values.shape"
   ],
   "metadata": {
    "collapsed": false,
    "pycharm": {
     "name": "#%%\n"
    }
   }
  },
  {
   "cell_type": "code",
   "execution_count": 22,
   "outputs": [],
   "source": [
    "# pred_d_new_maksed = []\n",
    "masked = predicts_d.copy()\n",
    "masked[masked<mask_values] = 0\n",
    "masked = masked.reshape((3,4,10,10))"
   ],
   "metadata": {
    "collapsed": false,
    "pycharm": {
     "name": "#%%\n"
    }
   }
  },
  {
   "cell_type": "code",
   "execution_count": 23,
   "outputs": [
    {
     "data": {
      "text/plain": "(4, 8, 10, 10)"
     },
     "execution_count": 23,
     "metadata": {},
     "output_type": "execute_result"
    }
   ],
   "source": [
    "obs = seq_test_one_space[0,:5]\n",
    "data = np.concatenate([obs,masked],axis=0).transpose((1,0,2,3))\n",
    "data.shape"
   ],
   "metadata": {
    "collapsed": false,
    "pycharm": {
     "name": "#%%\n"
    }
   }
  },
  {
   "cell_type": "code",
   "execution_count": 24,
   "outputs": [
    {
     "data": {
      "text/plain": "<Figure size 576x288 with 33 Axes>",
      "image/png": "[encoded data removed]"
     },
     "metadata": {},
     "output_type": "display_data"
    }
   ],
   "source": [
    "fig, axn = plt.subplots(4,8,sharex=True,sharey=True, figsize=(8,4))\n",
    "plt.subplots_adjust(wspace=0.05,hspace=0.05)\n",
    "cbar_ax = fig.add_axes([.92, .125, .03, .755])\n",
    "idx = 1\n",
    "for i in range(4):\n",
    "    for t in range(8):\n",
    "        if idx == 31:\n",
    "            sn.heatmap(data[i,t],\n",
    "                       cmap='YlGnBu',\n",
    "                       ax=axn.flat[idx-1],\n",
    "                       cbar_kws={'ticks':[]},\n",
    "                       cbar_ax=cbar_ax,\n",
    "                       xticklabels=False, yticklabels=False)\n",
    "        else:\n",
    "            sn.heatmap(data[i,t],\n",
    "                       cmap='YlGnBu',\n",
    "                       ax=axn.flat[idx-1],\n",
    "                       cbar=False,\n",
    "                       xticklabels=False, yticklabels=False)\n",
    "        idx += 1\n",
    "\n",
    "\n",
    "axn.flat[0].set_ylabel('Theft',fontsize=13)\n",
    "axn.flat[8].set_ylabel('Other', fontsize=13)\n",
    "axn.flat[16].set_ylabel('NC',fontsize=13)\n",
    "axn.flat[24].set_ylabel('Assault',fontsize=13)\n",
    "\n",
    "\n",
    "axn.flat[24].set_xlabel('$\\mathbf{X}_1$',rotation='horizontal',fontsize=13)\n",
    "axn.flat[25].set_xlabel('$\\mathbf{X}_2$',rotation='horizontal',fontsize=13)\n",
    "axn.flat[26].set_xlabel('$\\mathbf{X}_3$',rotation='horizontal',fontsize=13)\n",
    "axn.flat[27].set_xlabel('$\\mathbf{X}_4$',rotation='horizontal',fontsize=13)\n",
    "axn.flat[28].set_xlabel('$\\mathbf{X}_5$',rotation='horizontal',fontsize=13)\n",
    "axn.flat[29].set_xlabel('$\\mathbf{Y}_1$',rotation='horizontal',fontsize=13)\n",
    "axn.flat[30].set_xlabel('$\\mathbf{Y}_2$',rotation='horizontal',fontsize=13)\n",
    "axn.flat[31].set_xlabel('$\\mathbf{Y}_3$',rotation='horizontal',fontsize=13)\n",
    "\n",
    "fig.suptitle('Time',fontsize=13,x=0.52,y=0.03)\n",
    "fig.align_ylabels(axn[:0])\n",
    "fig.text(0.07,0.48, 'Event category',rotation='vertical',\n",
    "         va='center',ha='center',fontsize=13)\n",
    "plt.autoscale()\n",
    "\n",
    "# plt.tight_layout()\n",
    "\n",
    "plt.savefig('VAN-dynamics.pdf',bbox_inches='tight')"
   ],
   "metadata": {
    "collapsed": false,
    "pycharm": {
     "name": "#%%\n"
    }
   }
  }
 ],
 "metadata": {
  "kernelspec": {
   "name": "pycharm-6ec1b404",
   "language": "python",
   "display_name": "PyCharm (MAPSED)"
  },
  "language_info": {
   "codemirror_mode": {
    "name": "ipython",
    "version": 2
   },
   "file_extension": ".py",
   "mimetype": "text/x-python",
   "name": "python",
   "nbconvert_exporter": "python",
   "pygments_lexer": "ipython2",
   "version": "2.7.6"
  }
 },
 "nbformat": 4,
 "nbformat_minor": 0
}