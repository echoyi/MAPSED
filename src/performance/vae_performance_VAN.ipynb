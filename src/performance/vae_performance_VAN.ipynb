{
 "cells": [
  {
   "cell_type": "code",
   "execution_count": 0,
   "metadata": {
    "collapsed": true,
    "pycharm": {
     "name": "#%%\n"
    }
   },
   "outputs": [],
   "source": []
  },
  {
   "cell_type": "code",
   "execution_count": 1,
   "outputs": [
    {
     "name": "stdout",
     "output_type": "stream",
     "text": [
      "[2.48085591 1.03734006 0.92262824 0.74378674]\n"
     ]
    }
   ],
   "source": [
    "import numpy as np\n",
    "from torch.utils.data import DataLoader\n",
    "from src.model.vae.conv_vae import ConvVAE\n",
    "import torch\n",
    "from src.utils.calculate_loss import calculate_test_loss, calculate_loss\n",
    "from src.utils.load_data import load_data, normalize_data_tensor, recover_data_tensor\n",
    "device = torch.device('cuda')\n",
    "vae = ConvVAE(4).to(device)\n",
    "vae.load_state_dict(torch.load('../../saved_models/VAN/VAE-VAN.torch'))\n",
    "\n",
    "train,_,test = load_data('VAN')\n",
    "# mean = torch.tensor(train.mean(axis=(0,2,3))).cuda().float()\n",
    "max = torch.tensor(np.array([train[:,i].max() for i in range(4)])).cuda().float()\n",
    "\n",
    "mean = train.mean(axis=(0,2,3))\n",
    "print(mean)\n",
    "\n",
    "\n",
    "normalizer=mean\n",
    "device = torch.device('cuda')\n",
    "\n",
    "dataloader_train = DataLoader(train, 32, shuffle=True, drop_last=True)\n",
    "dataloader_test = DataLoader(test, 32, shuffle=False, drop_last=True)\n"
   ],
   "metadata": {
    "collapsed": false,
    "pycharm": {
     "name": "#%%\n"
    }
   }
  },
  {
   "cell_type": "code",
   "execution_count": 2,
   "outputs": [
    {
     "data": {
      "text/plain": "1.2961527377521613"
     },
     "execution_count": 2,
     "metadata": {},
     "output_type": "execute_result"
    }
   ],
   "source": [
    "train.mean()\n"
   ],
   "metadata": {
    "collapsed": false,
    "pycharm": {
     "name": "#%%\n"
    }
   }
  },
  {
   "cell_type": "markdown",
   "source": [
    "calculate train test metrics"
   ],
   "metadata": {
    "collapsed": false,
    "pycharm": {
     "name": "#%% md\n"
    }
   }
  },
  {
   "cell_type": "code",
   "execution_count": 3,
   "outputs": [],
   "source": [
    "metric = ['RMSE', 'MSE', 'MAE']"
   ],
   "metadata": {
    "collapsed": false,
    "pycharm": {
     "name": "#%%\n"
    }
   }
  },
  {
   "cell_type": "code",
   "source": [
    "vae.training=False\n",
    "vae.eval()\n",
    "\n",
    "metric = ['RMSE', 'MSE', 'MAE']\n",
    "loss = {m:[] for m in metric}\n",
    "for idx, data in enumerate(dataloader_train):\n",
    "    data = data.cuda().float()\n",
    "    data_recon,_,_ = vae(normalize_data_tensor(data,normalizer))\n",
    "    for m in metric:\n",
    "        l = torch.mean(calculate_loss(recover_data_tensor(data_recon, normalizer),\n",
    "                                      data, m,\n",
    "                                      reduction='none'),\n",
    "                       dim=(0,2,3)).cpu().detach().numpy()\n",
    "        loss[m].append(l)\n",
    "\n",
    "for m in metric:\n",
    "    loss[m] = np.stack(loss[m], axis=0)\n"
   ],
   "metadata": {
    "collapsed": false,
    "pycharm": {
     "name": "#%%\n"
    }
   },
   "execution_count": 4,
   "outputs": []
  },
  {
   "cell_type": "code",
   "execution_count": 5,
   "outputs": [
    {
     "data": {
      "text/plain": "{'RMSE': array([1.2402833 , 0.693108  , 0.69167763, 0.3438164 ], dtype=float32),\n 'MSE': array([3.8418727, 1.0793787, 1.0022407, 0.4509989], dtype=float32),\n 'MAE': array([1.2402833 , 0.693108  , 0.69167763, 0.3438164 ], dtype=float32)}"
     },
     "execution_count": 5,
     "metadata": {},
     "output_type": "execute_result"
    }
   ],
   "source": [
    "loss_means = {m:loss[m].mean(axis=0) for m in metric}\n",
    "loss_means"
   ],
   "metadata": {
    "collapsed": false,
    "pycharm": {
     "name": "#%%\n"
    }
   }
  },
  {
   "cell_type": "code",
   "execution_count": 6,
   "outputs": [
    {
     "data": {
      "text/plain": "{'RMSE': array([0.00163881, 0.00046616, 0.00063117, 0.00012514], dtype=float32),\n 'MSE': array([0.12656954, 0.10189484, 0.0066062 , 0.00087829], dtype=float32),\n 'MAE': array([0.00163881, 0.00046616, 0.00063117, 0.00012514], dtype=float32)}"
     },
     "execution_count": 6,
     "metadata": {},
     "output_type": "execute_result"
    }
   ],
   "source": [
    "loss_vars = {m:loss[m].var(axis=0) for m in metric}\n",
    "loss_vars\n"
   ],
   "metadata": {
    "collapsed": false,
    "pycharm": {
     "name": "#%%\n"
    }
   }
  },
  {
   "cell_type": "code",
   "execution_count": 7,
   "outputs": [],
   "source": [
    "loss_test = {m:[] for m in metric}\n",
    "for idx, data in enumerate(dataloader_test):\n",
    "    data = data.cuda().float()\n",
    "    data_recon,_,_ = vae(normalize_data_tensor(data,normalizer))\n",
    "    for m in metric:\n",
    "        l = torch.mean(calculate_loss(recover_data_tensor(data_recon, normalizer),\n",
    "                                      data, m,\n",
    "                                      reduction='none'),\n",
    "                       dim=(0,2,3)).cpu().detach().numpy()\n",
    "        loss_test[m].append(l)\n",
    "\n",
    "for m in metric:\n",
    "    loss_test[m] = np.stack(loss_test[m], axis=0)\n"
   ],
   "metadata": {
    "collapsed": false,
    "pycharm": {
     "name": "#%%\n"
    }
   }
  },
  {
   "cell_type": "code",
   "execution_count": 8,
   "outputs": [
    {
     "data": {
      "text/plain": "{'RMSE': array([1.261758  , 0.67746025, 0.6826467 , 0.35513178], dtype=float32),\n 'MSE': array([3.9594295 , 0.96915835, 1.0503665 , 0.47758245], dtype=float32),\n 'MAE': array([1.261758  , 0.67746025, 0.6826467 , 0.35513178], dtype=float32)}"
     },
     "execution_count": 8,
     "metadata": {},
     "output_type": "execute_result"
    }
   ],
   "source": [
    "loss_test_means = {m:loss_test[m].mean(axis=0) for m in metric}\n",
    "loss_test_means"
   ],
   "metadata": {
    "collapsed": false,
    "pycharm": {
     "name": "#%%\n"
    }
   }
  },
  {
   "cell_type": "code",
   "execution_count": 9,
   "outputs": [
    {
     "data": {
      "text/plain": "{'RMSE': array([0.04755922, 0.00122973, 0.01319443, 0.00312377], dtype=float32),\n 'MSE': array([3.3731494 , 0.03683224, 0.19296293, 0.0391564 ], dtype=float32),\n 'MAE': array([0.04755922, 0.00122973, 0.01319443, 0.00312377], dtype=float32)}"
     },
     "execution_count": 9,
     "metadata": {},
     "output_type": "execute_result"
    }
   ],
   "source": [
    "loss_test_vars = {m:loss_test[m].var(axis=0) for m in metric}\n",
    "loss_test_vars"
   ],
   "metadata": {
    "collapsed": false,
    "pycharm": {
     "name": "#%%\n"
    }
   }
  },
  {
   "cell_type": "code",
   "execution_count": 9,
   "outputs": [],
   "source": [],
   "metadata": {
    "collapsed": false,
    "pycharm": {
     "name": "#%%\n"
    }
   }
  }
 ],
 "metadata": {
  "kernelspec": {
   "name": "pycharm-6ec1b404",
   "language": "python",
   "display_name": "PyCharm (MAPSED)"
  },
  "language_info": {
   "codemirror_mode": {
    "name": "ipython",
    "version": 2
   },
   "file_extension": ".py",
   "mimetype": "text/x-python",
   "name": "python",
   "nbconvert_exporter": "python",
   "pygments_lexer": "ipython2",
   "version": "2.7.6"
  }
 },
 "nbformat": 4,
 "nbformat_minor": 0
}