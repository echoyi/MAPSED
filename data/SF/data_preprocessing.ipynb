{
 "cells": [
  {
   "cell_type": "code",
   "execution_count": 1,
   "outputs": [],
   "source": [
    "from datetime import datetime\n",
    "import pandas as pd\n",
    "import numpy as np"
   ],
   "metadata": {
    "collapsed": false,
    "pycharm": {
     "name": "#%%\n"
    }
   }
  },
  {
   "cell_type": "code",
   "execution_count": 2,
   "outputs": [
    {
     "data": {
      "text/plain": "   IncidntNum         Category                               Descript  \\\n0   110308742   MISSING PERSON                           FOUND PERSON   \n1    90316914         WARRANTS                         WARRANT ARREST   \n2   130132311  SECONDARY CODES                      DOMESTIC VIOLENCE   \n3    80052833   OTHER OFFENSES  DRIVERS LICENSE, SUSPENDED OR REVOKED   \n4    70535770  SECONDARY CODES                      DOMESTIC VIOLENCE   \n\n  DayOfWeek        Date   Time PdDistrict      Resolution  \\\n0    Friday  04/15/2011  16:00    TARAVAL         LOCATED   \n1  Thursday  03/26/2009  12:28   SOUTHERN  ARREST, BOOKED   \n2    Friday  02/15/2013  02:00       PARK  ARREST, BOOKED   \n3   Tuesday  01/15/2008  20:13    MISSION   ARREST, CITED   \n4  Saturday  05/26/2007  18:10    MISSION  ARREST, BOOKED   \n\n                   Address           X  ...  \\\n0     0 Block of CRESPI DR -122.476328  ...   \n1  1000 Block of MARKET ST -122.411340  ...   \n2    CASTRO ST / MARKET ST -122.435188  ...   \n3    VALENCIA ST / 16TH ST -122.421886  ...   \n4  2800 Block of FOLSOM ST -122.413935  ...   \n\n   Civic Center Harm Reduction Project Boundary  \\\n0                                           NaN   \n1                                           1.0   \n2                                           NaN   \n3                                           NaN   \n4                                           NaN   \n\n  Fix It Zones as of 2017-11-06   DELETE - HSOC Zones  \\\n0                            NaN                  NaN   \n1                            NaN                  1.0   \n2                            1.0                  5.0   \n3                            NaN                  3.0   \n4                            NaN                  3.0   \n\n   Fix It Zones as of 2018-02-07  CBD, BID and GBD Boundaries as of 2017  \\\n0                            NaN                                     NaN   \n1                            NaN                                     7.0   \n2                            1.0                                     9.0   \n3                            NaN                                     NaN   \n4                            NaN                                     NaN   \n\n   Areas of Vulnerability, 2016  Central Market/Tenderloin Boundary  \\\n0                           2.0                                 NaN   \n1                           2.0                                 1.0   \n2                           1.0                                 NaN   \n3                           2.0                                 NaN   \n4                           2.0                                 NaN   \n\n   Central Market/Tenderloin Boundary Polygon - Updated  \\\n0                                                NaN      \n1                                                1.0      \n2                                                NaN      \n3                                                NaN      \n4                                                NaN      \n\n   HSOC Zones as of 2018-06-05  OWED Public Spaces  \n0                          NaN                 NaN  \n1                          1.0                35.0  \n2                          5.0                 NaN  \n3                          3.0                 NaN  \n4                          3.0                 NaN  \n\n[5 rows x 33 columns]",
      "text/html": "<div>\n<style scoped>\n    .dataframe tbody tr th:only-of-type {\n        vertical-align: middle;\n    }\n\n    .dataframe tbody tr th {\n        vertical-align: top;\n    }\n\n    .dataframe thead th {\n        text-align: right;\n    }\n</style>\n<table border=\"1\" class=\"dataframe\">\n  <thead>\n    <tr style=\"text-align: right;\">\n      <th></th>\n      <th>IncidntNum</th>\n      <th>Category</th>\n      <th>Descript</th>\n      <th>DayOfWeek</th>\n      <th>Date</th>\n      <th>Time</th>\n      <th>PdDistrict</th>\n      <th>Resolution</th>\n      <th>Address</th>\n      <th>X</th>\n      <th>...</th>\n      <th>Civic Center Harm Reduction Project Boundary</th>\n      <th>Fix It Zones as of 2017-11-06</th>\n      <th>DELETE - HSOC Zones</th>\n      <th>Fix It Zones as of 2018-02-07</th>\n      <th>CBD, BID and GBD Boundaries as of 2017</th>\n      <th>Areas of Vulnerability, 2016</th>\n      <th>Central Market/Tenderloin Boundary</th>\n      <th>Central Market/Tenderloin Boundary Polygon - Updated</th>\n      <th>HSOC Zones as of 2018-06-05</th>\n      <th>OWED Public Spaces</th>\n    </tr>\n  </thead>\n  <tbody>\n    <tr>\n      <th>0</th>\n      <td>110308742</td>\n      <td>MISSING PERSON</td>\n      <td>FOUND PERSON</td>\n      <td>Friday</td>\n      <td>04/15/2011</td>\n      <td>16:00</td>\n      <td>TARAVAL</td>\n      <td>LOCATED</td>\n      <td>0 Block of CRESPI DR</td>\n      <td>-122.476328</td>\n      <td>...</td>\n      <td>NaN</td>\n      <td>NaN</td>\n      <td>NaN</td>\n      <td>NaN</td>\n      <td>NaN</td>\n      <td>2.0</td>\n      <td>NaN</td>\n      <td>NaN</td>\n      <td>NaN</td>\n      <td>NaN</td>\n    </tr>\n    <tr>\n      <th>1</th>\n      <td>90316914</td>\n      <td>WARRANTS</td>\n      <td>WARRANT ARREST</td>\n      <td>Thursday</td>\n      <td>03/26/2009</td>\n      <td>12:28</td>\n      <td>SOUTHERN</td>\n      <td>ARREST, BOOKED</td>\n      <td>1000 Block of MARKET ST</td>\n      <td>-122.411340</td>\n      <td>...</td>\n      <td>1.0</td>\n      <td>NaN</td>\n      <td>1.0</td>\n      <td>NaN</td>\n      <td>7.0</td>\n      <td>2.0</td>\n      <td>1.0</td>\n      <td>1.0</td>\n      <td>1.0</td>\n      <td>35.0</td>\n    </tr>\n    <tr>\n      <th>2</th>\n      <td>130132311</td>\n      <td>SECONDARY CODES</td>\n      <td>DOMESTIC VIOLENCE</td>\n      <td>Friday</td>\n      <td>02/15/2013</td>\n      <td>02:00</td>\n      <td>PARK</td>\n      <td>ARREST, BOOKED</td>\n      <td>CASTRO ST / MARKET ST</td>\n      <td>-122.435188</td>\n      <td>...</td>\n      <td>NaN</td>\n      <td>1.0</td>\n      <td>5.0</td>\n      <td>1.0</td>\n      <td>9.0</td>\n      <td>1.0</td>\n      <td>NaN</td>\n      <td>NaN</td>\n      <td>5.0</td>\n      <td>NaN</td>\n    </tr>\n    <tr>\n      <th>3</th>\n      <td>80052833</td>\n      <td>OTHER OFFENSES</td>\n      <td>DRIVERS LICENSE, SUSPENDED OR REVOKED</td>\n      <td>Tuesday</td>\n      <td>01/15/2008</td>\n      <td>20:13</td>\n      <td>MISSION</td>\n      <td>ARREST, CITED</td>\n      <td>VALENCIA ST / 16TH ST</td>\n      <td>-122.421886</td>\n      <td>...</td>\n      <td>NaN</td>\n      <td>NaN</td>\n      <td>3.0</td>\n      <td>NaN</td>\n      <td>NaN</td>\n      <td>2.0</td>\n      <td>NaN</td>\n      <td>NaN</td>\n      <td>3.0</td>\n      <td>NaN</td>\n    </tr>\n    <tr>\n      <th>4</th>\n      <td>70535770</td>\n      <td>SECONDARY CODES</td>\n      <td>DOMESTIC VIOLENCE</td>\n      <td>Saturday</td>\n      <td>05/26/2007</td>\n      <td>18:10</td>\n      <td>MISSION</td>\n      <td>ARREST, BOOKED</td>\n      <td>2800 Block of FOLSOM ST</td>\n      <td>-122.413935</td>\n      <td>...</td>\n      <td>NaN</td>\n      <td>NaN</td>\n      <td>3.0</td>\n      <td>NaN</td>\n      <td>NaN</td>\n      <td>2.0</td>\n      <td>NaN</td>\n      <td>NaN</td>\n      <td>3.0</td>\n      <td>NaN</td>\n    </tr>\n  </tbody>\n</table>\n<p>5 rows × 33 columns</p>\n</div>"
     },
     "execution_count": 2,
     "metadata": {},
     "output_type": "execute_result"
    }
   ],
   "source": [
    "df = pd.read_csv('crime.csv')\n",
    "df.head()"
   ],
   "metadata": {
    "collapsed": false,
    "pycharm": {
     "name": "#%%\n"
    }
   }
  },
  {
   "cell_type": "code",
   "execution_count": 3,
   "outputs": [
    {
     "data": {
      "text/plain": "2215024"
     },
     "execution_count": 3,
     "metadata": {},
     "output_type": "execute_result"
    }
   ],
   "source": [
    "len(df)"
   ],
   "metadata": {
    "collapsed": false,
    "pycharm": {
     "name": "#%%\n"
    }
   }
  },
  {
   "cell_type": "code",
   "execution_count": 4,
   "outputs": [
    {
     "data": {
      "text/plain": "LARCENY/THEFT     480448\nOTHER OFFENSES    309358\nNON-CRIMINAL      238323\nASSAULT           194694\nName: Category, dtype: int64"
     },
     "execution_count": 4,
     "metadata": {},
     "output_type": "execute_result"
    }
   ],
   "source": [
    "df['Category'].value_counts()[:4]"
   ],
   "metadata": {
    "collapsed": false,
    "pycharm": {
     "name": "#%%\n"
    }
   }
  },
  {
   "cell_type": "code",
   "execution_count": 5,
   "outputs": [],
   "source": [
    "df['Date'] = df['Date'].apply(pd.to_datetime)\n"
   ],
   "metadata": {
    "collapsed": false,
    "pycharm": {
     "name": "#%%\n"
    }
   }
  },
  {
   "cell_type": "code",
   "execution_count": 6,
   "outputs": [
    {
     "data": {
      "text/plain": "              Date             Type           X          Y\n0       2011-04-15   MISSING PERSON -122.476328  37.719687\n1       2009-03-26         WARRANTS -122.411340  37.781271\n2       2013-02-15  SECONDARY CODES -122.435188  37.762670\n3       2008-01-15   OTHER OFFENSES -122.421886  37.764918\n4       2007-05-26  SECONDARY CODES -122.413935  37.751693\n...            ...              ...         ...        ...\n2215019 2006-10-09   MISSING PERSON -122.405602  37.777265\n2215020 2013-04-30    VEHICLE THEFT -122.419699  37.752951\n2215021 2003-01-29   OTHER OFFENSES -122.402210  37.728104\n2215022 2004-02-13    LARCENY/THEFT -122.402219  37.795713\n2215023 2010-08-24   OTHER OFFENSES -122.419877  37.769580\n\n[2215024 rows x 4 columns]",
      "text/html": "<div>\n<style scoped>\n    .dataframe tbody tr th:only-of-type {\n        vertical-align: middle;\n    }\n\n    .dataframe tbody tr th {\n        vertical-align: top;\n    }\n\n    .dataframe thead th {\n        text-align: right;\n    }\n</style>\n<table border=\"1\" class=\"dataframe\">\n  <thead>\n    <tr style=\"text-align: right;\">\n      <th></th>\n      <th>Date</th>\n      <th>Type</th>\n      <th>X</th>\n      <th>Y</th>\n    </tr>\n  </thead>\n  <tbody>\n    <tr>\n      <th>0</th>\n      <td>2011-04-15</td>\n      <td>MISSING PERSON</td>\n      <td>-122.476328</td>\n      <td>37.719687</td>\n    </tr>\n    <tr>\n      <th>1</th>\n      <td>2009-03-26</td>\n      <td>WARRANTS</td>\n      <td>-122.411340</td>\n      <td>37.781271</td>\n    </tr>\n    <tr>\n      <th>2</th>\n      <td>2013-02-15</td>\n      <td>SECONDARY CODES</td>\n      <td>-122.435188</td>\n      <td>37.762670</td>\n    </tr>\n    <tr>\n      <th>3</th>\n      <td>2008-01-15</td>\n      <td>OTHER OFFENSES</td>\n      <td>-122.421886</td>\n      <td>37.764918</td>\n    </tr>\n    <tr>\n      <th>4</th>\n      <td>2007-05-26</td>\n      <td>SECONDARY CODES</td>\n      <td>-122.413935</td>\n      <td>37.751693</td>\n    </tr>\n    <tr>\n      <th>...</th>\n      <td>...</td>\n      <td>...</td>\n      <td>...</td>\n      <td>...</td>\n    </tr>\n    <tr>\n      <th>2215019</th>\n      <td>2006-10-09</td>\n      <td>MISSING PERSON</td>\n      <td>-122.405602</td>\n      <td>37.777265</td>\n    </tr>\n    <tr>\n      <th>2215020</th>\n      <td>2013-04-30</td>\n      <td>VEHICLE THEFT</td>\n      <td>-122.419699</td>\n      <td>37.752951</td>\n    </tr>\n    <tr>\n      <th>2215021</th>\n      <td>2003-01-29</td>\n      <td>OTHER OFFENSES</td>\n      <td>-122.402210</td>\n      <td>37.728104</td>\n    </tr>\n    <tr>\n      <th>2215022</th>\n      <td>2004-02-13</td>\n      <td>LARCENY/THEFT</td>\n      <td>-122.402219</td>\n      <td>37.795713</td>\n    </tr>\n    <tr>\n      <th>2215023</th>\n      <td>2010-08-24</td>\n      <td>OTHER OFFENSES</td>\n      <td>-122.419877</td>\n      <td>37.769580</td>\n    </tr>\n  </tbody>\n</table>\n<p>2215024 rows × 4 columns</p>\n</div>"
     },
     "execution_count": 6,
     "metadata": {},
     "output_type": "execute_result"
    }
   ],
   "source": [
    "df = df[['Date','Category', 'X','Y']]\n",
    "df = df.dropna()\n",
    "df = df.rename(columns={'Category':'Type'})\n",
    "df"
   ],
   "metadata": {
    "collapsed": false,
    "pycharm": {
     "name": "#%%\n"
    }
   }
  },
  {
   "cell_type": "code",
   "execution_count": 6,
   "outputs": [],
   "source": [],
   "metadata": {
    "collapsed": false,
    "pycharm": {
     "name": "#%%\n"
    }
   }
  },
  {
   "cell_type": "code",
   "execution_count": 7,
   "outputs": [
    {
     "data": {
      "text/plain": "count    2.215024e+06\nmean    -1.224229e+02\nstd      2.983459e-02\nmin     -1.225136e+02\n25%     -1.224332e+02\n50%     -1.224166e+02\n75%     -1.224069e+02\nmax     -1.205000e+02\nName: X, dtype: float64"
     },
     "execution_count": 7,
     "metadata": {},
     "output_type": "execute_result"
    }
   ],
   "source": [
    "df.X.describe()"
   ],
   "metadata": {
    "collapsed": false,
    "pycharm": {
     "name": "#%%\n"
    }
   }
  },
  {
   "cell_type": "code",
   "execution_count": 8,
   "outputs": [
    {
     "data": {
      "text/plain": "count    2.215024e+06\nmean     3.777076e+01\nstd      4.203596e-01\nmin      3.770788e+01\n25%      3.775302e+01\n50%      3.777542e+01\n75%      3.778448e+01\nmax      9.000000e+01\nName: Y, dtype: float64"
     },
     "execution_count": 8,
     "metadata": {},
     "output_type": "execute_result"
    }
   ],
   "source": [
    "df.Y.describe()"
   ],
   "metadata": {
    "collapsed": false,
    "pycharm": {
     "name": "#%%\n"
    }
   }
  },
  {
   "cell_type": "code",
   "execution_count": 9,
   "outputs": [
    {
     "data": {
      "text/plain": "(-122.51, -122.38, 37.71, 37.8)"
     },
     "execution_count": 9,
     "metadata": {},
     "output_type": "execute_result"
    }
   ],
   "source": [
    "def crop(df, bbox=[-122.51,-122.38,37.71,37.8], percentile_x=[0.01, 0.99], percentile_y=[0.01, 0.99]):\n",
    "    if bbox:\n",
    "        [min_x, max_x, min_y, max_y] = bbox\n",
    "    else:\n",
    "        min_x = df['X'].quantile(percentile_x[0])\n",
    "        max_x = df['X'].quantile(percentile_x[1])\n",
    "        min_y = df['Y'].quantile(percentile_y[0])\n",
    "        max_y = df['Y'].quantile(percentile_y[1])\n",
    "    df_cleaned = df[(df['X'] > min_x) & (df['X'] < max_x)\n",
    "                    & (df['Y'] > min_y) & (df['Y'] < max_y)]\n",
    "    return df_cleaned, (min_x, max_x, min_y, max_y)\n",
    "\n",
    "df, (min_x, max_x, min_y, max_y) = crop(df)\n",
    "df, _ = crop(df, bbox=(min_x, max_x, min_y, max_y))\n",
    "\n",
    "\n",
    "min_x, max_x, min_y, max_y"
   ],
   "metadata": {
    "collapsed": false,
    "pycharm": {
     "name": "#%%\n"
    }
   }
  },
  {
   "cell_type": "code",
   "execution_count": 10,
   "outputs": [],
   "source": [
    "import geopandas\n",
    "df =  geopandas.GeoDataFrame(\n",
    "    df, geometry=geopandas.points_from_xy(df.X, df.Y))\n",
    "df = df.rename(columns={'geometry':'Location'})"
   ],
   "metadata": {
    "collapsed": false,
    "pycharm": {
     "name": "#%%\n"
    }
   }
  },
  {
   "cell_type": "code",
   "execution_count": 11,
   "outputs": [],
   "source": [
    "df.to_csv('cropped.csv')"
   ],
   "metadata": {
    "collapsed": false,
    "pycharm": {
     "name": "#%%\n"
    }
   }
  },
  {
   "cell_type": "code",
   "execution_count": 12,
   "outputs": [
    {
     "data": {
      "text/plain": "              Date             Type           X          Y  \\\n0       2011-04-15   MISSING PERSON -122.476328  37.719687   \n1       2009-03-26         WARRANTS -122.411340  37.781271   \n2       2013-02-15  SECONDARY CODES -122.435188  37.762670   \n3       2008-01-15   OTHER OFFENSES -122.421886  37.764918   \n4       2007-05-26  SECONDARY CODES -122.413935  37.751693   \n...            ...              ...         ...        ...   \n2215019 2006-10-09   MISSING PERSON -122.405602  37.777265   \n2215020 2013-04-30    VEHICLE THEFT -122.419699  37.752951   \n2215021 2003-01-29   OTHER OFFENSES -122.402210  37.728104   \n2215022 2004-02-13    LARCENY/THEFT -122.402219  37.795713   \n2215023 2010-08-24   OTHER OFFENSES -122.419877  37.769580   \n\n                            Location  \n0        POINT (-122.47633 37.71969)  \n1        POINT (-122.41134 37.78127)  \n2        POINT (-122.43519 37.76267)  \n3        POINT (-122.42189 37.76492)  \n4        POINT (-122.41394 37.75169)  \n...                              ...  \n2215019  POINT (-122.40560 37.77727)  \n2215020  POINT (-122.41970 37.75295)  \n2215021  POINT (-122.40221 37.72810)  \n2215022  POINT (-122.40222 37.79571)  \n2215023  POINT (-122.41988 37.76958)  \n\n[2092183 rows x 5 columns]",
      "text/html": "<div>\n<style scoped>\n    .dataframe tbody tr th:only-of-type {\n        vertical-align: middle;\n    }\n\n    .dataframe tbody tr th {\n        vertical-align: top;\n    }\n\n    .dataframe thead th {\n        text-align: right;\n    }\n</style>\n<table border=\"1\" class=\"dataframe\">\n  <thead>\n    <tr style=\"text-align: right;\">\n      <th></th>\n      <th>Date</th>\n      <th>Type</th>\n      <th>X</th>\n      <th>Y</th>\n      <th>Location</th>\n    </tr>\n  </thead>\n  <tbody>\n    <tr>\n      <th>0</th>\n      <td>2011-04-15</td>\n      <td>MISSING PERSON</td>\n      <td>-122.476328</td>\n      <td>37.719687</td>\n      <td>POINT (-122.47633 37.71969)</td>\n    </tr>\n    <tr>\n      <th>1</th>\n      <td>2009-03-26</td>\n      <td>WARRANTS</td>\n      <td>-122.411340</td>\n      <td>37.781271</td>\n      <td>POINT (-122.41134 37.78127)</td>\n    </tr>\n    <tr>\n      <th>2</th>\n      <td>2013-02-15</td>\n      <td>SECONDARY CODES</td>\n      <td>-122.435188</td>\n      <td>37.762670</td>\n      <td>POINT (-122.43519 37.76267)</td>\n    </tr>\n    <tr>\n      <th>3</th>\n      <td>2008-01-15</td>\n      <td>OTHER OFFENSES</td>\n      <td>-122.421886</td>\n      <td>37.764918</td>\n      <td>POINT (-122.42189 37.76492)</td>\n    </tr>\n    <tr>\n      <th>4</th>\n      <td>2007-05-26</td>\n      <td>SECONDARY CODES</td>\n      <td>-122.413935</td>\n      <td>37.751693</td>\n      <td>POINT (-122.41394 37.75169)</td>\n    </tr>\n    <tr>\n      <th>...</th>\n      <td>...</td>\n      <td>...</td>\n      <td>...</td>\n      <td>...</td>\n      <td>...</td>\n    </tr>\n    <tr>\n      <th>2215019</th>\n      <td>2006-10-09</td>\n      <td>MISSING PERSON</td>\n      <td>-122.405602</td>\n      <td>37.777265</td>\n      <td>POINT (-122.40560 37.77727)</td>\n    </tr>\n    <tr>\n      <th>2215020</th>\n      <td>2013-04-30</td>\n      <td>VEHICLE THEFT</td>\n      <td>-122.419699</td>\n      <td>37.752951</td>\n      <td>POINT (-122.41970 37.75295)</td>\n    </tr>\n    <tr>\n      <th>2215021</th>\n      <td>2003-01-29</td>\n      <td>OTHER OFFENSES</td>\n      <td>-122.402210</td>\n      <td>37.728104</td>\n      <td>POINT (-122.40221 37.72810)</td>\n    </tr>\n    <tr>\n      <th>2215022</th>\n      <td>2004-02-13</td>\n      <td>LARCENY/THEFT</td>\n      <td>-122.402219</td>\n      <td>37.795713</td>\n      <td>POINT (-122.40222 37.79571)</td>\n    </tr>\n    <tr>\n      <th>2215023</th>\n      <td>2010-08-24</td>\n      <td>OTHER OFFENSES</td>\n      <td>-122.419877</td>\n      <td>37.769580</td>\n      <td>POINT (-122.41988 37.76958)</td>\n    </tr>\n  </tbody>\n</table>\n<p>2092183 rows × 5 columns</p>\n</div>"
     },
     "execution_count": 12,
     "metadata": {},
     "output_type": "execute_result"
    }
   ],
   "source": [
    "df"
   ],
   "metadata": {
    "collapsed": false,
    "pycharm": {
     "name": "#%%\n"
    }
   }
  },
  {
   "cell_type": "code",
   "execution_count": 12,
   "outputs": [],
   "source": [],
   "metadata": {
    "collapsed": false,
    "pycharm": {
     "name": "#%%\n"
    }
   }
  },
  {
   "cell_type": "code",
   "execution_count": 13,
   "outputs": [],
   "source": [
    "min_x, max_x, min_y, max_y = df['X'].min(), \\\n",
    "                             df['X'].max(),\\\n",
    "                             df['Y'].min(),\\\n",
    "                             df['Y'].max()"
   ],
   "metadata": {
    "collapsed": false,
    "pycharm": {
     "name": "#%%\n"
    }
   }
  },
  {
   "cell_type": "markdown",
   "source": [
    "### Create 10x10 grids"
   ],
   "metadata": {
    "collapsed": false
   }
  },
  {
   "cell_type": "code",
   "execution_count": 14,
   "outputs": [],
   "source": [
    "from shapely.geometry import Polygon\n",
    "from shapely import wkt\n",
    "import seaborn as sn\n",
    "\n",
    "\n",
    "\n",
    "def create_grids(min_x, max_x, min_y, max_y, num_x=10, num_y=10):\n",
    "    xcoords = np.linspace(min_x, max_x, num_x+1)\n",
    "    ycoords = np.linspace(min_y, max_y, num_y+1)\n",
    "    grids = []\n",
    "    indice = []\n",
    "    for i in range(num_x):\n",
    "        [x_left, x_right] = xcoords[i:i+2]\n",
    "        for j in range(num_y):\n",
    "            [y_bot, y_top] = ycoords[j:j+2]\n",
    "            polygon = Polygon([(x_left, y_top), (x_right, y_top),\n",
    "                             (x_right, y_bot), (x_left, y_bot)])\n",
    "            grids.append(polygon)\n",
    "            indice.append((i, j))\n",
    "    df = pd.DataFrame({'grid number': np.arange(\n",
    "        1, len(grids)+1), 'grid index': indice, 'polygon': grids})\n",
    "    return grids, df\n",
    "\n",
    "\n",
    "def count_events_in_grids(pts, grids):\n",
    "    counts = []\n",
    "    for i in range(len(grids)):\n",
    "        count = np.array([grids[i].contains(pt) for pt in pts\n",
    "                          ]).sum()\n",
    "        counts.append(count)\n",
    "    return np.array(counts)\n",
    "\n",
    "\n",
    "def create_heatmap_time_series(df, grids, period=2,\n",
    "                               rolling_window=False,\n",
    "                               num_x=10, num_y=10,\n",
    "                               min_date=None, max_date=None):\n",
    "    heatmaps = {}\n",
    "\n",
    "    # df['Date'] = pd.to_datetime(df['Date'])\n",
    "    # df.index = df['Date']\n",
    "    # df = df.sort_index()\n",
    "\n",
    "    time_delta = np.timedelta64(period, 'D')\n",
    "\n",
    "    start_date = min_date\n",
    "    end_date = start_date+time_delta\n",
    "    i = 0\n",
    "    print(\"min date:{}, max date:{}\".format(min_date,max_date))\n",
    "\n",
    "    while end_date <= max_date:\n",
    "        df_temp = df[start_date:end_date]\n",
    "        h = count_events_in_grids(df_temp['Location'].values, grids)\n",
    "        h.reshape(num_x, num_y)\n",
    "        heatmaps[np.datetime_as_string(start_date, unit='D')] = h\n",
    "        if rolling_window:\n",
    "            start_date = start_date + np.timedelta64(1, 'D')\n",
    "        else:\n",
    "            start_date = end_date\n",
    "        end_date = start_date + time_delta\n",
    "        i+=1\n",
    "        if i%365==0:\n",
    "            print(\"processing for date: {}\".format(end_date))\n",
    "    return heatmaps\n",
    "    print(end_date)"
   ],
   "metadata": {
    "collapsed": false,
    "pycharm": {
     "name": "#%%\n"
    }
   }
  },
  {
   "cell_type": "code",
   "execution_count": 15,
   "outputs": [
    {
     "data": {
      "text/plain": "    grid number grid index                                            polygon\n0             1     (0, 0)  POLYGON ((-122.509895418239 37.71900070770035,...\n1             2     (0, 1)  POLYGON ((-122.509895418239 37.728000621015, -...\n2             3     (0, 2)  POLYGON ((-122.509895418239 37.73700053432965,...\n3             4     (0, 3)  POLYGON ((-122.509895418239 37.7460004476443, ...\n4             5     (0, 4)  POLYGON ((-122.509895418239 37.75500036095895,...\n..          ...        ...                                                ...\n95           96     (9, 5)  POLYGON ((-122.3930154292976 37.7640002742736,...\n96           97     (9, 6)  POLYGON ((-122.3930154292976 37.77300018758825...\n97           98     (9, 7)  POLYGON ((-122.3930154292976 37.7820001009029,...\n98           99     (9, 8)  POLYGON ((-122.3930154292976 37.79100001421754...\n99          100     (9, 9)  POLYGON ((-122.3930154292976 37.7999999275322,...\n\n[100 rows x 3 columns]",
      "text/html": "<div>\n<style scoped>\n    .dataframe tbody tr th:only-of-type {\n        vertical-align: middle;\n    }\n\n    .dataframe tbody tr th {\n        vertical-align: top;\n    }\n\n    .dataframe thead th {\n        text-align: right;\n    }\n</style>\n<table border=\"1\" class=\"dataframe\">\n  <thead>\n    <tr style=\"text-align: right;\">\n      <th></th>\n      <th>grid number</th>\n      <th>grid index</th>\n      <th>polygon</th>\n    </tr>\n  </thead>\n  <tbody>\n    <tr>\n      <th>0</th>\n      <td>1</td>\n      <td>(0, 0)</td>\n      <td>POLYGON ((-122.509895418239 37.71900070770035,...</td>\n    </tr>\n    <tr>\n      <th>1</th>\n      <td>2</td>\n      <td>(0, 1)</td>\n      <td>POLYGON ((-122.509895418239 37.728000621015, -...</td>\n    </tr>\n    <tr>\n      <th>2</th>\n      <td>3</td>\n      <td>(0, 2)</td>\n      <td>POLYGON ((-122.509895418239 37.73700053432965,...</td>\n    </tr>\n    <tr>\n      <th>3</th>\n      <td>4</td>\n      <td>(0, 3)</td>\n      <td>POLYGON ((-122.509895418239 37.7460004476443, ...</td>\n    </tr>\n    <tr>\n      <th>4</th>\n      <td>5</td>\n      <td>(0, 4)</td>\n      <td>POLYGON ((-122.509895418239 37.75500036095895,...</td>\n    </tr>\n    <tr>\n      <th>...</th>\n      <td>...</td>\n      <td>...</td>\n      <td>...</td>\n    </tr>\n    <tr>\n      <th>95</th>\n      <td>96</td>\n      <td>(9, 5)</td>\n      <td>POLYGON ((-122.3930154292976 37.7640002742736,...</td>\n    </tr>\n    <tr>\n      <th>96</th>\n      <td>97</td>\n      <td>(9, 6)</td>\n      <td>POLYGON ((-122.3930154292976 37.77300018758825...</td>\n    </tr>\n    <tr>\n      <th>97</th>\n      <td>98</td>\n      <td>(9, 7)</td>\n      <td>POLYGON ((-122.3930154292976 37.7820001009029,...</td>\n    </tr>\n    <tr>\n      <th>98</th>\n      <td>99</td>\n      <td>(9, 8)</td>\n      <td>POLYGON ((-122.3930154292976 37.79100001421754...</td>\n    </tr>\n    <tr>\n      <th>99</th>\n      <td>100</td>\n      <td>(9, 9)</td>\n      <td>POLYGON ((-122.3930154292976 37.7999999275322,...</td>\n    </tr>\n  </tbody>\n</table>\n<p>100 rows × 3 columns</p>\n</div>"
     },
     "execution_count": 15,
     "metadata": {},
     "output_type": "execute_result"
    }
   ],
   "source": [
    "grids, df_grids = create_grids(min_x,max_x,min_y,max_y)\n",
    "df_grids"
   ],
   "metadata": {
    "collapsed": false,
    "pycharm": {
     "name": "#%%\n"
    }
   }
  },
  {
   "cell_type": "code",
   "execution_count": 16,
   "outputs": [],
   "source": [
    "df_grids.to_csv('grids-10x10.csv')"
   ],
   "metadata": {
    "collapsed": false,
    "pycharm": {
     "name": "#%%\n"
    }
   }
  },
  {
   "cell_type": "markdown",
   "source": [
    "### Extract daily time series of the heatmaps for all 5 categories of data"
   ],
   "metadata": {
    "collapsed": false
   }
  },
  {
   "cell_type": "code",
   "execution_count": 17,
   "outputs": [
    {
     "data": {
      "text/plain": "LARCENY/THEFT                  438921\nOTHER OFFENSES                 297597\nNON-CRIMINAL                   225209\nASSAULT                        184934\nVEHICLE THEFT                  119613\nDRUG/NARCOTIC                  118040\nVANDALISM                      107971\nWARRANTS                        98118\nBURGLARY                        85107\nSUSPICIOUS OCC                  76382\nMISSING PERSON                  62415\nROBBERY                         53390\nFRAUD                           39237\nSECONDARY CODES                 24293\nFORGERY/COUNTERFEITING          22050\nWEAPON LAWS                     21001\nTRESPASS                        18442\nPROSTITUTION                    16632\nSEX OFFENSES, FORCIBLE          11209\nSTOLEN PROPERTY                 11091\nDISORDERLY CONDUCT               9665\nDRUNKENNESS                      9443\nRECOVERED VEHICLE                8212\nDRIVING UNDER THE INFLUENCE      5480\nKIDNAPPING                       5099\nRUNAWAY                          4312\nLIQUOR LAWS                      3983\nARSON                            3657\nEMBEZZLEMENT                     2820\nLOITERING                        2393\nSUICIDE                          1190\nFAMILY OFFENSES                  1121\nBAD CHECKS                        891\nBRIBERY                           767\nEXTORTION                         701\nSEX OFFENSES, NON FORCIBLE        414\nGAMBLING                          318\nPORNOGRAPHY/OBSCENE MAT            54\nTREA                               11\nName: Type, dtype: int64"
     },
     "execution_count": 17,
     "metadata": {},
     "output_type": "execute_result"
    }
   ],
   "source": [
    "\n",
    "df.Type.value_counts()\n"
   ],
   "metadata": {
    "collapsed": false,
    "pycharm": {
     "name": "#%%\n"
    }
   }
  },
  {
   "cell_type": "code",
   "execution_count": 18,
   "outputs": [],
   "source": [
    "df = df[df['Type'].isin(df.Type.value_counts().index.values[:4])]\n"
   ],
   "metadata": {
    "collapsed": false,
    "pycharm": {
     "name": "#%%\n"
    }
   }
  },
  {
   "cell_type": "code",
   "execution_count": 19,
   "outputs": [
    {
     "data": {
      "text/plain": "array(['LARCENY/THEFT', 'OTHER OFFENSES', 'NON-CRIMINAL', 'ASSAULT'],\n      dtype=object)"
     },
     "execution_count": 19,
     "metadata": {},
     "output_type": "execute_result"
    }
   ],
   "source": [
    "types = df.Type.value_counts().index.values\n",
    "types"
   ],
   "metadata": {
    "collapsed": false,
    "pycharm": {
     "name": "#%%\n"
    }
   }
  },
  {
   "cell_type": "code",
   "execution_count": 20,
   "outputs": [
    {
     "name": "stderr",
     "output_type": "stream",
     "text": [
      "<ipython-input-20-7a4808138f61>:1: SettingWithCopyWarning: \n",
      "A value is trying to be set on a copy of a slice from a DataFrame.\n",
      "Try using .loc[row_indexer,col_indexer] = value instead\n",
      "\n",
      "See the caveats in the documentation: https://pandas.pydata.org/pandas-docs/stable/user_guide/indexing.html#returning-a-view-versus-a-copy\n",
      "  df['Date'] = pd.to_datetime(df['Date'])\n"
     ]
    }
   ],
   "source": [
    "df['Date'] = pd.to_datetime(df['Date'])\n",
    "df.index = df['Date']\n",
    "df = df.sort_index()\n"
   ],
   "metadata": {
    "collapsed": false,
    "pycharm": {
     "name": "#%%\n"
    }
   }
  },
  {
   "cell_type": "code",
   "execution_count": 21,
   "outputs": [
    {
     "data": {
      "text/plain": "4"
     },
     "execution_count": 21,
     "metadata": {},
     "output_type": "execute_result"
    }
   ],
   "source": [
    "dfs = []\n",
    "for i in range(len(types)):\n",
    "  dfs.append(df[df['Type'] == types[i]])\n",
    "\n",
    "len(dfs)"
   ],
   "metadata": {
    "collapsed": false,
    "pycharm": {
     "name": "#%%\n"
    }
   }
  },
  {
   "cell_type": "code",
   "execution_count": 22,
   "outputs": [
    {
     "data": {
      "text/plain": "(numpy.datetime64('2003-01-01T00:00:00.000000000'),\n numpy.datetime64('2018-05-15T00:00:00.000000000'))"
     },
     "execution_count": 22,
     "metadata": {},
     "output_type": "execute_result"
    }
   ],
   "source": [
    "df.index.values.min(),df.index.values.max()"
   ],
   "metadata": {
    "collapsed": false,
    "pycharm": {
     "name": "#%%\n"
    }
   }
  },
  {
   "cell_type": "code",
   "execution_count": 69,
   "outputs": [
    {
     "name": "stdout",
     "output_type": "stream",
     "text": [
      "5599 days\n"
     ]
    }
   ],
   "source": [
    "train_periods = []\n",
    "val_periods = []\n",
    "test_periods = []\n",
    "time_delta_9 = np.timedelta64(850, 'D')\n",
    "time_delta_1 = np.timedelta64(150,'D')\n",
    "time_delta_2 = np.timedelta64(250,'D')\n",
    "start = np.datetime64('2003-01-01')\n",
    "max_date = np.datetime64('2018-05-01')\n",
    "print(max_date-start)\n"
   ],
   "metadata": {
    "collapsed": false,
    "pycharm": {
     "name": "#%%\n"
    }
   }
  },
  {
   "cell_type": "code",
   "execution_count": 70,
   "outputs": [],
   "source": [
    "end = start\n",
    "while end<max_date:\n",
    "    end = start + time_delta_9\n",
    "    if end >max_date:\n",
    "        end = max_date\n",
    "    train_periods.append((start, end))\n",
    "    if end == max_date:\n",
    "        break\n",
    "    start = end\n",
    "    end = start + time_delta_2\n",
    "    test_periods.append((start, end))\n",
    "    start = end\n",
    "    end = start + time_delta_1\n",
    "    val_periods.append((start, end))\n",
    "    start = end"
   ],
   "metadata": {
    "collapsed": false,
    "pycharm": {
     "name": "#%%\n"
    }
   }
  },
  {
   "cell_type": "code",
   "execution_count": 71,
   "outputs": [
    {
     "data": {
      "text/plain": "[(numpy.datetime64('2003-01-01'), numpy.datetime64('2005-04-30')),\n (numpy.datetime64('2006-06-04'), numpy.datetime64('2008-10-01')),\n (numpy.datetime64('2009-11-05'), numpy.datetime64('2012-03-04')),\n (numpy.datetime64('2013-04-08'), numpy.datetime64('2015-08-06')),\n (numpy.datetime64('2016-09-09'), numpy.datetime64('2018-05-01'))]"
     },
     "execution_count": 71,
     "metadata": {},
     "output_type": "execute_result"
    }
   ],
   "source": [
    "train_periods"
   ],
   "metadata": {
    "collapsed": false,
    "pycharm": {
     "name": "#%%\n"
    }
   }
  },
  {
   "cell_type": "code",
   "execution_count": 72,
   "outputs": [
    {
     "data": {
      "text/plain": "[(numpy.datetime64('2006-01-05'), numpy.datetime64('2006-06-04')),\n (numpy.datetime64('2009-06-08'), numpy.datetime64('2009-11-05')),\n (numpy.datetime64('2012-11-09'), numpy.datetime64('2013-04-08')),\n (numpy.datetime64('2016-04-12'), numpy.datetime64('2016-09-09'))]"
     },
     "execution_count": 72,
     "metadata": {},
     "output_type": "execute_result"
    }
   ],
   "source": [
    "val_periods"
   ],
   "metadata": {
    "collapsed": false,
    "pycharm": {
     "name": "#%%\n"
    }
   }
  },
  {
   "cell_type": "code",
   "execution_count": 74,
   "outputs": [
    {
     "data": {
      "text/plain": "[(numpy.datetime64('2005-04-30'), numpy.datetime64('2006-01-05')),\n (numpy.datetime64('2008-10-01'), numpy.datetime64('2009-06-08')),\n (numpy.datetime64('2012-03-04'), numpy.datetime64('2012-11-09')),\n (numpy.datetime64('2015-08-06'), numpy.datetime64('2016-04-12'))]"
     },
     "execution_count": 74,
     "metadata": {},
     "output_type": "execute_result"
    }
   ],
   "source": [
    "test_periods"
   ],
   "metadata": {
    "collapsed": false,
    "pycharm": {
     "name": "#%%\n"
    }
   }
  },
  {
   "cell_type": "code",
   "execution_count": 75,
   "outputs": [
    {
     "name": "stdout",
     "output_type": "stream",
     "text": [
      "min date:2003-01-01, max date:2005-04-30\n",
      "processing for date: 2004-01-08\n",
      "processing for date: 2005-01-07\n",
      "min date:2003-01-01, max date:2005-04-30\n",
      "processing for date: 2004-01-08\n",
      "processing for date: 2005-01-07\n",
      "min date:2003-01-01, max date:2005-04-30\n",
      "processing for date: 2004-01-08\n",
      "processing for date: 2005-01-07\n",
      "min date:2003-01-01, max date:2005-04-30\n",
      "processing for date: 2004-01-08\n",
      "processing for date: 2005-01-07\n",
      "min date:2006-06-04, max date:2008-10-01\n",
      "processing for date: 2007-06-11\n",
      "processing for date: 2008-06-10\n",
      "min date:2006-06-04, max date:2008-10-01\n",
      "processing for date: 2007-06-11\n",
      "processing for date: 2008-06-10\n",
      "min date:2006-06-04, max date:2008-10-01\n",
      "processing for date: 2007-06-11\n",
      "processing for date: 2008-06-10\n",
      "min date:2006-06-04, max date:2008-10-01\n",
      "processing for date: 2007-06-11\n",
      "processing for date: 2008-06-10\n",
      "min date:2009-11-05, max date:2012-03-04\n",
      "processing for date: 2010-11-12\n",
      "processing for date: 2011-11-12\n",
      "min date:2009-11-05, max date:2012-03-04\n",
      "processing for date: 2010-11-12\n",
      "processing for date: 2011-11-12\n",
      "min date:2009-11-05, max date:2012-03-04\n",
      "processing for date: 2010-11-12\n",
      "processing for date: 2011-11-12\n",
      "min date:2009-11-05, max date:2012-03-04\n",
      "processing for date: 2010-11-12\n",
      "processing for date: 2011-11-12\n",
      "min date:2013-04-08, max date:2015-08-06\n",
      "processing for date: 2014-04-15\n",
      "processing for date: 2015-04-15\n",
      "min date:2013-04-08, max date:2015-08-06\n",
      "processing for date: 2014-04-15\n",
      "processing for date: 2015-04-15\n",
      "min date:2013-04-08, max date:2015-08-06\n",
      "processing for date: 2014-04-15\n",
      "processing for date: 2015-04-15\n",
      "min date:2013-04-08, max date:2015-08-06\n",
      "processing for date: 2014-04-15\n",
      "processing for date: 2015-04-15\n",
      "min date:2016-09-09, max date:2018-05-01\n",
      "processing for date: 2017-09-16\n",
      "min date:2016-09-09, max date:2018-05-01\n",
      "processing for date: 2017-09-16\n",
      "min date:2016-09-09, max date:2018-05-01\n",
      "processing for date: 2017-09-16\n",
      "min date:2016-09-09, max date:2018-05-01\n",
      "processing for date: 2017-09-16\n"
     ]
    }
   ],
   "source": [
    "hmaps_train_all = []\n",
    "\n",
    "for train_period in train_periods:\n",
    "    hmaps_train = []\n",
    "    for i in range(len(types)):\n",
    "        min_date, max_date = train_period\n",
    "        train = create_heatmap_time_series(dfs[i], grids,\n",
    "                                         rolling_window=True, period=7,\n",
    "                                         min_date = min_date,\n",
    "                                         max_date = max_date)\n",
    "        hmap_train = np.array(list(train.values())).reshape((-1,10,10))\n",
    "        hmaps_train.append(hmap_train)\n",
    "    hmaps_train = np.stack(hmaps_train,axis=1)\n",
    "    hmaps_train_all.append(hmaps_train)"
   ],
   "metadata": {
    "collapsed": false,
    "pycharm": {
     "name": "#%%\n"
    }
   }
  },
  {
   "cell_type": "code",
   "execution_count": 76,
   "outputs": [
    {
     "name": "stdout",
     "output_type": "stream",
     "text": [
      "(844, 4, 10, 10)\n",
      "(3969, 4, 10, 10)\n"
     ]
    },
    {
     "data": {
      "text/plain": "(5,)"
     },
     "execution_count": 76,
     "metadata": {},
     "output_type": "execute_result"
    }
   ],
   "source": [
    "print(hmaps_train_all[0].shape)\n",
    "data_train = np.concatenate(hmaps_train_all, axis = 0)\n",
    "print(data_train.shape)\n",
    "np.save('train', data_train)\n",
    "np.save('train_by_periods', np.array(hmaps_train_all, dtype=object))\n",
    "np.array(hmaps_train_all, dtype=object).shape"
   ],
   "metadata": {
    "collapsed": false,
    "pycharm": {
     "name": "#%%\n"
    }
   }
  },
  {
   "cell_type": "code",
   "execution_count": 77,
   "outputs": [
    {
     "data": {
      "text/plain": "434000"
     },
     "execution_count": 77,
     "metadata": {},
     "output_type": "execute_result"
    }
   ],
   "source": [
    "hmaps_train_all[2][:,0].sum()"
   ],
   "metadata": {
    "collapsed": false,
    "pycharm": {
     "name": "#%%\n"
    }
   }
  },
  {
   "cell_type": "code",
   "execution_count": 78,
   "outputs": [
    {
     "name": "stdout",
     "output_type": "stream",
     "text": [
      "min date:2006-01-05, max date:2006-06-04\n",
      "min date:2006-01-05, max date:2006-06-04\n",
      "min date:2006-01-05, max date:2006-06-04\n",
      "min date:2006-01-05, max date:2006-06-04\n",
      "min date:2009-06-08, max date:2009-11-05\n",
      "min date:2009-06-08, max date:2009-11-05\n",
      "min date:2009-06-08, max date:2009-11-05\n",
      "min date:2009-06-08, max date:2009-11-05\n",
      "min date:2012-11-09, max date:2013-04-08\n",
      "min date:2012-11-09, max date:2013-04-08\n",
      "min date:2012-11-09, max date:2013-04-08\n",
      "min date:2012-11-09, max date:2013-04-08\n",
      "min date:2016-04-12, max date:2016-09-09\n",
      "min date:2016-04-12, max date:2016-09-09\n",
      "min date:2016-04-12, max date:2016-09-09\n",
      "min date:2016-04-12, max date:2016-09-09\n"
     ]
    }
   ],
   "source": [
    "hmaps_valid_all = []\n",
    "\n",
    "for val_period in val_periods:\n",
    "    hmaps_val = []\n",
    "    for i in range(len(types)):\n",
    "        min_date, max_date = val_period\n",
    "        val = create_heatmap_time_series(dfs[i], grids,\n",
    "                                         rolling_window=True, period=7,\n",
    "                                         min_date = min_date,\n",
    "                                         max_date = max_date)\n",
    "        hmap_val = np.array(list(val.values())).reshape((-1,10,10))\n",
    "        hmaps_val.append(hmap_val)\n",
    "    hmaps_val = np.stack(hmaps_val,axis=1)\n",
    "    hmaps_valid_all.append(hmaps_val)"
   ],
   "metadata": {
    "collapsed": false,
    "pycharm": {
     "name": "#%%\n"
    }
   }
  },
  {
   "cell_type": "code",
   "execution_count": 79,
   "outputs": [
    {
     "name": "stdout",
     "output_type": "stream",
     "text": [
      "(144, 4, 10, 10)\n"
     ]
    },
    {
     "data": {
      "text/plain": "(4, 144, 4, 10, 10)"
     },
     "execution_count": 79,
     "metadata": {},
     "output_type": "execute_result"
    }
   ],
   "source": [
    "print(hmaps_valid_all[0].shape)\n",
    "data_valid = np.concatenate(hmaps_valid_all, axis = 0)\n",
    "np.save('valid', data_valid)\n",
    "np.save('valid_by_periods', np.array(hmaps_valid_all))\n",
    "np.array(hmaps_valid_all).shape"
   ],
   "metadata": {
    "collapsed": false,
    "pycharm": {
     "name": "#%%\n"
    }
   }
  },
  {
   "cell_type": "code",
   "execution_count": 80,
   "outputs": [
    {
     "name": "stdout",
     "output_type": "stream",
     "text": [
      "min date:2005-04-30, max date:2006-01-05\n",
      "min date:2005-04-30, max date:2006-01-05\n",
      "min date:2005-04-30, max date:2006-01-05\n",
      "min date:2005-04-30, max date:2006-01-05\n",
      "min date:2008-10-01, max date:2009-06-08\n",
      "min date:2008-10-01, max date:2009-06-08\n",
      "min date:2008-10-01, max date:2009-06-08\n",
      "min date:2008-10-01, max date:2009-06-08\n",
      "min date:2012-03-04, max date:2012-11-09\n",
      "min date:2012-03-04, max date:2012-11-09\n",
      "min date:2012-03-04, max date:2012-11-09\n",
      "min date:2012-03-04, max date:2012-11-09\n",
      "min date:2015-08-06, max date:2016-04-12\n",
      "min date:2015-08-06, max date:2016-04-12\n",
      "min date:2015-08-06, max date:2016-04-12\n",
      "min date:2015-08-06, max date:2016-04-12\n"
     ]
    }
   ],
   "source": [
    "hmaps_test_all = []\n",
    "\n",
    "for test_period in test_periods:\n",
    "    hmaps_test = []\n",
    "    for i in range(len(types)):\n",
    "        min_date, max_date = test_period\n",
    "        val = create_heatmap_time_series(dfs[i], grids,\n",
    "                                         rolling_window=True, period=7,\n",
    "                                         min_date = min_date,\n",
    "                                         max_date = max_date)\n",
    "        hmap_test = np.array(list(val.values())).reshape((-1,10,10))\n",
    "        hmaps_test.append(hmap_test)\n",
    "    hmaps_test = np.stack(hmaps_test,axis=1)\n",
    "    hmaps_test_all.append(hmaps_test)"
   ],
   "metadata": {
    "collapsed": false,
    "pycharm": {
     "name": "#%%\n"
    }
   }
  },
  {
   "cell_type": "code",
   "execution_count": 81,
   "outputs": [
    {
     "name": "stdout",
     "output_type": "stream",
     "text": [
      "(244, 4, 10, 10)\n"
     ]
    },
    {
     "data": {
      "text/plain": "(4, 244, 4, 10, 10)"
     },
     "execution_count": 81,
     "metadata": {},
     "output_type": "execute_result"
    }
   ],
   "source": [
    "print(hmaps_test_all[0].shape)\n",
    "data_test = np.concatenate(hmaps_test_all, axis = 0)\n",
    "np.save('test', data_test)\n",
    "np.save('test_by_periods', np.array(hmaps_test_all))\n",
    "np.array(hmaps_test_all).shape"
   ],
   "metadata": {
    "collapsed": false,
    "pycharm": {
     "name": "#%%\n"
    }
   }
  },
  {
   "cell_type": "code",
   "execution_count": 82,
   "outputs": [
    {
     "data": {
      "text/plain": "593"
     },
     "execution_count": 82,
     "metadata": {},
     "output_type": "execute_result"
    }
   ],
   "source": [
    "len(train)"
   ],
   "metadata": {
    "collapsed": false,
    "pycharm": {
     "name": "#%%\n"
    }
   }
  },
  {
   "cell_type": "code",
   "execution_count": 83,
   "outputs": [],
   "source": [
    "m=5\n",
    "n=3\n",
    "step = 7\n",
    "seq = []\n",
    "for data_train in hmaps_train_all:\n",
    "    for t0 in range(len(data_train)-(m+n)*step+1):\n",
    "          observed = data_train[t0:t0+step*m:step]\n",
    "          target = data_train[t0+step*m:t0+step*(m+n):step]\n",
    "          seq.append(np.append(observed, target,axis=0))\n",
    "    #seq shape: (N-(m+n)*step+1,m+n,1,10,10)\n",
    "\n",
    "np.save('seq_train', seq)"
   ],
   "metadata": {
    "collapsed": false,
    "pycharm": {
     "name": "#%%\n"
    }
   }
  },
  {
   "cell_type": "code",
   "execution_count": 84,
   "outputs": [
    {
     "data": {
      "text/plain": "3694"
     },
     "execution_count": 84,
     "metadata": {},
     "output_type": "execute_result"
    }
   ],
   "source": [
    "len(seq)"
   ],
   "metadata": {
    "collapsed": false,
    "pycharm": {
     "name": "#%%\n"
    }
   }
  },
  {
   "cell_type": "code",
   "execution_count": 85,
   "outputs": [
    {
     "data": {
      "text/plain": "356"
     },
     "execution_count": 85,
     "metadata": {},
     "output_type": "execute_result"
    }
   ],
   "source": [
    "m=5\n",
    "n=3\n",
    "step = 7\n",
    "seq_val = []\n",
    "for data_valid in hmaps_valid_all:\n",
    "    for t0 in range(len(data_valid)-(m+n)*step+1):\n",
    "          observed = data_valid[t0:t0+step*m:step]\n",
    "          target = data_valid[t0+step*m:t0+step*(m+n):step]\n",
    "          seq_val.append(np.append(observed, target,axis=0))\n",
    "    #seq shape: (N-(m+n)*step+1,m+n,1,10,10)\n",
    "\n",
    "np.save('seq_valid', seq_val)\n",
    "len(seq_val)"
   ],
   "metadata": {
    "collapsed": false,
    "pycharm": {
     "name": "#%%\n"
    }
   }
  },
  {
   "cell_type": "code",
   "execution_count": 86,
   "outputs": [
    {
     "data": {
      "text/plain": "756"
     },
     "execution_count": 86,
     "metadata": {},
     "output_type": "execute_result"
    }
   ],
   "source": [
    "m=5\n",
    "n=3\n",
    "step = 7\n",
    "seq_test = []\n",
    "for data_test in hmaps_test_all:\n",
    "    for t0 in range(len(data_test)-(m+n)*step+1):\n",
    "          observed = data_test[t0:t0+step*m:step]\n",
    "          target = data_test[t0+step*m:t0+step*(m+n):step]\n",
    "          seq_test.append(np.append(observed, target,axis=0))\n",
    "    #seq shape: (N-(m+n)*step+1,m+n,1,10,10)\n",
    "\n",
    "np.save('seq_test', seq_test)\n",
    "len(seq_test)"
   ],
   "metadata": {
    "collapsed": false,
    "pycharm": {
     "name": "#%%\n"
    }
   }
  },
  {
   "cell_type": "code",
   "execution_count": 87,
   "outputs": [
    {
     "data": {
      "text/plain": "(756, 8, 4, 10, 10)"
     },
     "execution_count": 87,
     "metadata": {},
     "output_type": "execute_result"
    }
   ],
   "source": [
    "np.array(seq_test).shape"
   ],
   "metadata": {
    "collapsed": false,
    "pycharm": {
     "name": "#%%\n"
    }
   }
  },
  {
   "cell_type": "code",
   "execution_count": 88,
   "outputs": [
    {
     "data": {
      "text/plain": "array([519301, 221140, 204591, 168311])"
     },
     "execution_count": 88,
     "metadata": {},
     "output_type": "execute_result"
    }
   ],
   "source": [
    "np.sum(data_train, axis=(0,2,3))"
   ],
   "metadata": {
    "collapsed": false,
    "pycharm": {
     "name": "#%%\n"
    }
   }
  },
  {
   "cell_type": "code",
   "execution_count": 89,
   "outputs": [
    {
     "data": {
      "text/plain": "array([109081,  57551,  52333,  39194])"
     },
     "execution_count": 89,
     "metadata": {},
     "output_type": "execute_result"
    }
   ],
   "source": [
    "np.sum(data_valid, axis=(0,2,3))"
   ],
   "metadata": {
    "collapsed": false,
    "pycharm": {
     "name": "#%%\n"
    }
   }
  },
  {
   "cell_type": "markdown",
   "source": [
    "## heatmap at ts=1 of different categories"
   ],
   "metadata": {
    "collapsed": false
   }
  },
  {
   "cell_type": "code",
   "execution_count": 90,
   "outputs": [
    {
     "data": {
      "text/plain": "<AxesSubplot:>"
     },
     "execution_count": 90,
     "metadata": {},
     "output_type": "execute_result"
    },
    {
     "data": {
      "text/plain": "<Figure size 432x288 with 2 Axes>",
      "image/png": "[encoded data removed]"
     },
     "metadata": {
      "needs_background": "light"
     },
     "output_type": "display_data"
    }
   ],
   "source": [
    "sn.heatmap(data_train[0,0],cmap='cool')"
   ],
   "metadata": {
    "collapsed": false,
    "pycharm": {
     "name": "#%%\n"
    }
   }
  },
  {
   "cell_type": "code",
   "execution_count": 91,
   "outputs": [
    {
     "data": {
      "text/plain": "<AxesSubplot:>"
     },
     "execution_count": 91,
     "metadata": {},
     "output_type": "execute_result"
    },
    {
     "data": {
      "text/plain": "<Figure size 432x288 with 2 Axes>",
      "image/png": "[encoded data removed]"
     },
     "metadata": {
      "needs_background": "light"
     },
     "output_type": "display_data"
    }
   ],
   "source": [
    "\n",
    "sn.heatmap(hmaps_train_all[-1][1,0],cmap='cool')"
   ],
   "metadata": {
    "collapsed": false,
    "pycharm": {
     "name": "#%%\n"
    }
   }
  },
  {
   "cell_type": "code",
   "execution_count": 92,
   "outputs": [
    {
     "data": {
      "text/plain": "<AxesSubplot:>"
     },
     "execution_count": 92,
     "metadata": {},
     "output_type": "execute_result"
    },
    {
     "data": {
      "text/plain": "<Figure size 432x288 with 2 Axes>",
      "image/png": "[encoded data removed]"
     },
     "metadata": {
      "needs_background": "light"
     },
     "output_type": "display_data"
    }
   ],
   "source": [
    "sn.heatmap(data_train[0,1],cmap='cool')"
   ],
   "metadata": {
    "collapsed": false,
    "pycharm": {
     "name": "#%%\n"
    }
   }
  },
  {
   "cell_type": "code",
   "execution_count": 93,
   "outputs": [
    {
     "data": {
      "text/plain": "<AxesSubplot:>"
     },
     "execution_count": 93,
     "metadata": {},
     "output_type": "execute_result"
    },
    {
     "data": {
      "text/plain": "<Figure size 432x288 with 2 Axes>",
      "image/png": "[encoded data removed]"
     },
     "metadata": {
      "needs_background": "light"
     },
     "output_type": "display_data"
    }
   ],
   "source": [
    "sn.heatmap(data_train[0,2],cmap='cool')"
   ],
   "metadata": {
    "collapsed": false,
    "pycharm": {
     "name": "#%%\n"
    }
   }
  },
  {
   "cell_type": "code",
   "execution_count": 94,
   "outputs": [
    {
     "data": {
      "text/plain": "<AxesSubplot:>"
     },
     "execution_count": 94,
     "metadata": {},
     "output_type": "execute_result"
    },
    {
     "data": {
      "text/plain": "<Figure size 432x288 with 2 Axes>",
      "image/png": "[encoded data removed]"
     },
     "metadata": {
      "needs_background": "light"
     },
     "output_type": "display_data"
    }
   ],
   "source": [
    "sn.heatmap(data_train[0,3],cmap='cool')\n"
   ],
   "metadata": {
    "collapsed": false,
    "pycharm": {
     "name": "#%%\n"
    }
   }
  }
 ],
 "metadata": {
  "kernelspec": {
   "name": "pycharm-6ec1b404",
   "language": "python",
   "display_name": "PyCharm (MAPSED)"
  },
  "language_info": {
   "codemirror_mode": {
    "name": "ipython",
    "version": 2
   },
   "file_extension": ".py",
   "mimetype": "text/x-python",
   "name": "python",
   "nbconvert_exporter": "python",
   "pygments_lexer": "ipython2",
   "version": "2.7.6"
  }
 },
 "nbformat": 4,
 "nbformat_minor": 0
}