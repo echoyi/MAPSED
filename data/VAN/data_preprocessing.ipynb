{
 "cells": [
  {
   "cell_type": "code",
   "execution_count": 1,
   "outputs": [],
   "source": [
    "from datetime import datetime\n",
    "import pandas as pd\n",
    "import numpy as np"
   ],
   "metadata": {
    "collapsed": false,
    "pycharm": {
     "name": "#%%\n"
    }
   }
  },
  {
   "cell_type": "code",
   "execution_count": 2,
   "outputs": [
    {
     "data": {
      "text/plain": "          TYPE  YEAR  MONTH  DAY  HOUR  MINUTE     HUNDRED_BLOCK  \\\n0  Other Theft  2003      5   12  16.0    15.0  9XX TERMINAL AVE   \n1  Other Theft  2003      5    7  15.0    20.0  9XX TERMINAL AVE   \n2  Other Theft  2003      4   23  16.0    40.0  9XX TERMINAL AVE   \n3  Other Theft  2003      4   20  11.0    15.0  9XX TERMINAL AVE   \n4  Other Theft  2003      4   12  17.0    45.0  9XX TERMINAL AVE   \n\n  NEIGHBOURHOOD         X           Y   Latitude   Longitude  \n0    Strathcona  493906.5  5457452.47  49.269802 -123.083763  \n1    Strathcona  493906.5  5457452.47  49.269802 -123.083763  \n2    Strathcona  493906.5  5457452.47  49.269802 -123.083763  \n3    Strathcona  493906.5  5457452.47  49.269802 -123.083763  \n4    Strathcona  493906.5  5457452.47  49.269802 -123.083763  ",
      "text/html": "<div>\n<style scoped>\n    .dataframe tbody tr th:only-of-type {\n        vertical-align: middle;\n    }\n\n    .dataframe tbody tr th {\n        vertical-align: top;\n    }\n\n    .dataframe thead th {\n        text-align: right;\n    }\n</style>\n<table border=\"1\" class=\"dataframe\">\n  <thead>\n    <tr style=\"text-align: right;\">\n      <th></th>\n      <th>TYPE</th>\n      <th>YEAR</th>\n      <th>MONTH</th>\n      <th>DAY</th>\n      <th>HOUR</th>\n      <th>MINUTE</th>\n      <th>HUNDRED_BLOCK</th>\n      <th>NEIGHBOURHOOD</th>\n      <th>X</th>\n      <th>Y</th>\n      <th>Latitude</th>\n      <th>Longitude</th>\n    </tr>\n  </thead>\n  <tbody>\n    <tr>\n      <th>0</th>\n      <td>Other Theft</td>\n      <td>2003</td>\n      <td>5</td>\n      <td>12</td>\n      <td>16.0</td>\n      <td>15.0</td>\n      <td>9XX TERMINAL AVE</td>\n      <td>Strathcona</td>\n      <td>493906.5</td>\n      <td>5457452.47</td>\n      <td>49.269802</td>\n      <td>-123.083763</td>\n    </tr>\n    <tr>\n      <th>1</th>\n      <td>Other Theft</td>\n      <td>2003</td>\n      <td>5</td>\n      <td>7</td>\n      <td>15.0</td>\n      <td>20.0</td>\n      <td>9XX TERMINAL AVE</td>\n      <td>Strathcona</td>\n      <td>493906.5</td>\n      <td>5457452.47</td>\n      <td>49.269802</td>\n      <td>-123.083763</td>\n    </tr>\n    <tr>\n      <th>2</th>\n      <td>Other Theft</td>\n      <td>2003</td>\n      <td>4</td>\n      <td>23</td>\n      <td>16.0</td>\n      <td>40.0</td>\n      <td>9XX TERMINAL AVE</td>\n      <td>Strathcona</td>\n      <td>493906.5</td>\n      <td>5457452.47</td>\n      <td>49.269802</td>\n      <td>-123.083763</td>\n    </tr>\n    <tr>\n      <th>3</th>\n      <td>Other Theft</td>\n      <td>2003</td>\n      <td>4</td>\n      <td>20</td>\n      <td>11.0</td>\n      <td>15.0</td>\n      <td>9XX TERMINAL AVE</td>\n      <td>Strathcona</td>\n      <td>493906.5</td>\n      <td>5457452.47</td>\n      <td>49.269802</td>\n      <td>-123.083763</td>\n    </tr>\n    <tr>\n      <th>4</th>\n      <td>Other Theft</td>\n      <td>2003</td>\n      <td>4</td>\n      <td>12</td>\n      <td>17.0</td>\n      <td>45.0</td>\n      <td>9XX TERMINAL AVE</td>\n      <td>Strathcona</td>\n      <td>493906.5</td>\n      <td>5457452.47</td>\n      <td>49.269802</td>\n      <td>-123.083763</td>\n    </tr>\n  </tbody>\n</table>\n</div>"
     },
     "execution_count": 2,
     "metadata": {},
     "output_type": "execute_result"
    }
   ],
   "source": [
    "df = pd.read_csv('crime.csv')\n",
    "df.head()"
   ],
   "metadata": {
    "collapsed": false,
    "pycharm": {
     "name": "#%%\n"
    }
   }
  },
  {
   "cell_type": "code",
   "execution_count": 3,
   "outputs": [
    {
     "name": "stderr",
     "output_type": "stream",
     "text": [
      "<ipython-input-3-83cfba531627>:1: FutureWarning: The pandas.datetime class is deprecated and will be removed from pandas in a future version. Import from datetime module instead.\n",
      "  df['Date'] = df[['YEAR', 'MONTH', 'DAY']].apply(lambda s : pd.datetime(*s),axis = 1)\n"
     ]
    }
   ],
   "source": [
    "df['Date'] = df[['YEAR', 'MONTH', 'DAY']].apply(lambda s : pd.datetime(*s),axis = 1)\n"
   ],
   "metadata": {
    "collapsed": false,
    "pycharm": {
     "name": "#%%\n"
    }
   }
  },
  {
   "cell_type": "code",
   "execution_count": 4,
   "outputs": [
    {
     "data": {
      "text/plain": "             Date                                               Type  \\\n0      2003-05-12                                        Other Theft   \n1      2003-05-07                                        Other Theft   \n2      2003-04-23                                        Other Theft   \n3      2003-04-20                                        Other Theft   \n4      2003-04-12                                        Other Theft   \n...           ...                                                ...   \n530647 2017-03-03                  Break and Enter Residential/Other   \n530648 2017-05-29                                           Mischief   \n530649 2017-04-13                           Offence Against a Person   \n530650 2017-06-05                                 Theft from Vehicle   \n530651 2017-06-06  Vehicle Collision or Pedestrian Struck (with I...   \n\n                 X          Y  \n0      -123.083763  49.269802  \n1      -123.083763  49.269802  \n2      -123.083763  49.269802  \n3      -123.083763  49.269802  \n4      -123.083763  49.269802  \n...            ...        ...  \n530647 -123.037595  49.277420  \n530648 -123.075129  49.264163  \n530649    0.000000   0.000000  \n530650 -123.117031  49.278168  \n530651 -123.134512  49.215706  \n\n[530652 rows x 4 columns]",
      "text/html": "<div>\n<style scoped>\n    .dataframe tbody tr th:only-of-type {\n        vertical-align: middle;\n    }\n\n    .dataframe tbody tr th {\n        vertical-align: top;\n    }\n\n    .dataframe thead th {\n        text-align: right;\n    }\n</style>\n<table border=\"1\" class=\"dataframe\">\n  <thead>\n    <tr style=\"text-align: right;\">\n      <th></th>\n      <th>Date</th>\n      <th>Type</th>\n      <th>X</th>\n      <th>Y</th>\n    </tr>\n  </thead>\n  <tbody>\n    <tr>\n      <th>0</th>\n      <td>2003-05-12</td>\n      <td>Other Theft</td>\n      <td>-123.083763</td>\n      <td>49.269802</td>\n    </tr>\n    <tr>\n      <th>1</th>\n      <td>2003-05-07</td>\n      <td>Other Theft</td>\n      <td>-123.083763</td>\n      <td>49.269802</td>\n    </tr>\n    <tr>\n      <th>2</th>\n      <td>2003-04-23</td>\n      <td>Other Theft</td>\n      <td>-123.083763</td>\n      <td>49.269802</td>\n    </tr>\n    <tr>\n      <th>3</th>\n      <td>2003-04-20</td>\n      <td>Other Theft</td>\n      <td>-123.083763</td>\n      <td>49.269802</td>\n    </tr>\n    <tr>\n      <th>4</th>\n      <td>2003-04-12</td>\n      <td>Other Theft</td>\n      <td>-123.083763</td>\n      <td>49.269802</td>\n    </tr>\n    <tr>\n      <th>...</th>\n      <td>...</td>\n      <td>...</td>\n      <td>...</td>\n      <td>...</td>\n    </tr>\n    <tr>\n      <th>530647</th>\n      <td>2017-03-03</td>\n      <td>Break and Enter Residential/Other</td>\n      <td>-123.037595</td>\n      <td>49.277420</td>\n    </tr>\n    <tr>\n      <th>530648</th>\n      <td>2017-05-29</td>\n      <td>Mischief</td>\n      <td>-123.075129</td>\n      <td>49.264163</td>\n    </tr>\n    <tr>\n      <th>530649</th>\n      <td>2017-04-13</td>\n      <td>Offence Against a Person</td>\n      <td>0.000000</td>\n      <td>0.000000</td>\n    </tr>\n    <tr>\n      <th>530650</th>\n      <td>2017-06-05</td>\n      <td>Theft from Vehicle</td>\n      <td>-123.117031</td>\n      <td>49.278168</td>\n    </tr>\n    <tr>\n      <th>530651</th>\n      <td>2017-06-06</td>\n      <td>Vehicle Collision or Pedestrian Struck (with I...</td>\n      <td>-123.134512</td>\n      <td>49.215706</td>\n    </tr>\n  </tbody>\n</table>\n<p>530652 rows × 4 columns</p>\n</div>"
     },
     "execution_count": 4,
     "metadata": {},
     "output_type": "execute_result"
    }
   ],
   "source": [
    "df = df[['Date','TYPE', 'Longitude','Latitude']]\n",
    "df = df.dropna()\n",
    "df = df.rename(columns={'TYPE':'Type','Longitude':'X','Latitude':'Y'})\n",
    "df"
   ],
   "metadata": {
    "collapsed": false,
    "pycharm": {
     "name": "#%%\n"
    }
   }
  },
  {
   "cell_type": "code",
   "execution_count": 4,
   "outputs": [],
   "source": [],
   "metadata": {
    "collapsed": false,
    "pycharm": {
     "name": "#%%\n"
    }
   }
  },
  {
   "cell_type": "code",
   "execution_count": 5,
   "outputs": [
    {
     "data": {
      "text/plain": "count    476290.000000\nmean       -123.106826\nstd           0.037732\nmin        -124.549757\n25%        -123.129328\n50%        -123.113100\n75%        -123.081366\nmax        -122.844597\nName: X, dtype: float64"
     },
     "execution_count": 5,
     "metadata": {},
     "output_type": "execute_result"
    }
   ],
   "source": [
    "df = df[df.X != 0]\n",
    "df.X.describe()"
   ],
   "metadata": {
    "collapsed": false,
    "pycharm": {
     "name": "#%%\n"
    }
   }
  },
  {
   "cell_type": "code",
   "execution_count": 6,
   "outputs": [
    {
     "data": {
      "text/plain": "count    476290.000000\nmean         49.262685\nstd           0.022465\nmin          49.073359\n25%          49.249097\n50%          49.268045\n75%          49.281193\nmax          49.755314\nName: Y, dtype: float64"
     },
     "execution_count": 6,
     "metadata": {},
     "output_type": "execute_result"
    }
   ],
   "source": [
    "df.Y.describe()"
   ],
   "metadata": {
    "collapsed": false,
    "pycharm": {
     "name": "#%%\n"
    }
   }
  },
  {
   "cell_type": "code",
   "execution_count": 7,
   "outputs": [
    {
     "data": {
      "text/plain": "(-123.194210809, -123.0264505, 49.20710708, 49.2927773567)"
     },
     "execution_count": 7,
     "metadata": {},
     "output_type": "execute_result"
    }
   ],
   "source": [
    "def crop(df, bbox=None, percentile_x=[0.01, 0.99], percentile_y=[0.01, 0.99]):\n",
    "    if bbox:\n",
    "        [min_x, max_x, min_y, max_y] = bbox\n",
    "    else:\n",
    "        min_x = df['X'].quantile(percentile_x[0])\n",
    "        max_x = df['X'].quantile(percentile_x[1])\n",
    "        min_y = df['Y'].quantile(percentile_y[0])\n",
    "        max_y = df['Y'].quantile(percentile_y[1])\n",
    "    df_cleaned = df[(df['X'] > min_x) & (df['X'] < max_x)\n",
    "                    & (df['Y'] > min_y) & (df['Y'] < max_y)]\n",
    "    return df_cleaned, (min_x, max_x, min_y, max_y)\n",
    "\n",
    "df, (min_x, max_x, min_y, max_y) = crop(df)\n",
    "df, _ = crop(df, bbox=(min_x, max_x, min_y, max_y))\n",
    "\n",
    "\n",
    "min_x, max_x, min_y, max_y"
   ],
   "metadata": {
    "collapsed": false,
    "pycharm": {
     "name": "#%%\n"
    }
   }
  },
  {
   "cell_type": "code",
   "execution_count": 8,
   "outputs": [],
   "source": [
    "import geopandas\n",
    "df =  geopandas.GeoDataFrame(\n",
    "    df, geometry=geopandas.points_from_xy(df.X, df.Y))\n",
    "df = df.rename(columns={'geometry':'Location'})"
   ],
   "metadata": {
    "collapsed": false,
    "pycharm": {
     "name": "#%%\n"
    }
   }
  },
  {
   "cell_type": "code",
   "execution_count": 9,
   "outputs": [],
   "source": [
    "df.to_csv('cropped.csv')\n",
    "# df_post2016.to_csv('post2016_cropped.csv')\n",
    "\n",
    "#\n",
    "# df = pd.read_csv('311_cropped.csv')"
   ],
   "metadata": {
    "collapsed": false,
    "pycharm": {
     "name": "#%%\n"
    }
   }
  },
  {
   "cell_type": "code",
   "execution_count": 10,
   "outputs": [],
   "source": [
    "# df['Location'] = df['Location'].apply(wkt.loads)"
   ],
   "metadata": {
    "collapsed": false,
    "pycharm": {
     "name": "#%%\n"
    }
   }
  },
  {
   "cell_type": "code",
   "execution_count": 11,
   "outputs": [
    {
     "data": {
      "text/plain": "             Date                                               Type  \\\n0      2003-05-12                                        Other Theft   \n1      2003-05-07                                        Other Theft   \n2      2003-04-23                                        Other Theft   \n3      2003-04-20                                        Other Theft   \n4      2003-04-12                                        Other Theft   \n...           ...                                                ...   \n530646 2017-01-18                                           Mischief   \n530647 2017-03-03                  Break and Enter Residential/Other   \n530648 2017-05-29                                           Mischief   \n530650 2017-06-05                                 Theft from Vehicle   \n530651 2017-06-06  Vehicle Collision or Pedestrian Struck (with I...   \n\n                 X          Y                     Location  \n0      -123.083763  49.269802  POINT (-123.08376 49.26980)  \n1      -123.083763  49.269802  POINT (-123.08376 49.26980)  \n2      -123.083763  49.269802  POINT (-123.08376 49.26980)  \n3      -123.083763  49.269802  POINT (-123.08376 49.26980)  \n4      -123.083763  49.269802  POINT (-123.08376 49.26980)  \n...            ...        ...                          ...  \n530646 -123.074746  49.281276  POINT (-123.07475 49.28128)  \n530647 -123.037595  49.277420  POINT (-123.03760 49.27742)  \n530648 -123.075129  49.264163  POINT (-123.07513 49.26416)  \n530650 -123.117031  49.278168  POINT (-123.11703 49.27817)  \n530651 -123.134512  49.215706  POINT (-123.13451 49.21571)  \n\n[457242 rows x 5 columns]",
      "text/html": "<div>\n<style scoped>\n    .dataframe tbody tr th:only-of-type {\n        vertical-align: middle;\n    }\n\n    .dataframe tbody tr th {\n        vertical-align: top;\n    }\n\n    .dataframe thead th {\n        text-align: right;\n    }\n</style>\n<table border=\"1\" class=\"dataframe\">\n  <thead>\n    <tr style=\"text-align: right;\">\n      <th></th>\n      <th>Date</th>\n      <th>Type</th>\n      <th>X</th>\n      <th>Y</th>\n      <th>Location</th>\n    </tr>\n  </thead>\n  <tbody>\n    <tr>\n      <th>0</th>\n      <td>2003-05-12</td>\n      <td>Other Theft</td>\n      <td>-123.083763</td>\n      <td>49.269802</td>\n      <td>POINT (-123.08376 49.26980)</td>\n    </tr>\n    <tr>\n      <th>1</th>\n      <td>2003-05-07</td>\n      <td>Other Theft</td>\n      <td>-123.083763</td>\n      <td>49.269802</td>\n      <td>POINT (-123.08376 49.26980)</td>\n    </tr>\n    <tr>\n      <th>2</th>\n      <td>2003-04-23</td>\n      <td>Other Theft</td>\n      <td>-123.083763</td>\n      <td>49.269802</td>\n      <td>POINT (-123.08376 49.26980)</td>\n    </tr>\n    <tr>\n      <th>3</th>\n      <td>2003-04-20</td>\n      <td>Other Theft</td>\n      <td>-123.083763</td>\n      <td>49.269802</td>\n      <td>POINT (-123.08376 49.26980)</td>\n    </tr>\n    <tr>\n      <th>4</th>\n      <td>2003-04-12</td>\n      <td>Other Theft</td>\n      <td>-123.083763</td>\n      <td>49.269802</td>\n      <td>POINT (-123.08376 49.26980)</td>\n    </tr>\n    <tr>\n      <th>...</th>\n      <td>...</td>\n      <td>...</td>\n      <td>...</td>\n      <td>...</td>\n      <td>...</td>\n    </tr>\n    <tr>\n      <th>530646</th>\n      <td>2017-01-18</td>\n      <td>Mischief</td>\n      <td>-123.074746</td>\n      <td>49.281276</td>\n      <td>POINT (-123.07475 49.28128)</td>\n    </tr>\n    <tr>\n      <th>530647</th>\n      <td>2017-03-03</td>\n      <td>Break and Enter Residential/Other</td>\n      <td>-123.037595</td>\n      <td>49.277420</td>\n      <td>POINT (-123.03760 49.27742)</td>\n    </tr>\n    <tr>\n      <th>530648</th>\n      <td>2017-05-29</td>\n      <td>Mischief</td>\n      <td>-123.075129</td>\n      <td>49.264163</td>\n      <td>POINT (-123.07513 49.26416)</td>\n    </tr>\n    <tr>\n      <th>530650</th>\n      <td>2017-06-05</td>\n      <td>Theft from Vehicle</td>\n      <td>-123.117031</td>\n      <td>49.278168</td>\n      <td>POINT (-123.11703 49.27817)</td>\n    </tr>\n    <tr>\n      <th>530651</th>\n      <td>2017-06-06</td>\n      <td>Vehicle Collision or Pedestrian Struck (with I...</td>\n      <td>-123.134512</td>\n      <td>49.215706</td>\n      <td>POINT (-123.13451 49.21571)</td>\n    </tr>\n  </tbody>\n</table>\n<p>457242 rows × 5 columns</p>\n</div>"
     },
     "execution_count": 11,
     "metadata": {},
     "output_type": "execute_result"
    }
   ],
   "source": [
    "df"
   ],
   "metadata": {
    "collapsed": false,
    "pycharm": {
     "name": "#%%\n"
    }
   }
  },
  {
   "cell_type": "code",
   "execution_count": 11,
   "outputs": [],
   "source": [],
   "metadata": {
    "collapsed": false,
    "pycharm": {
     "name": "#%%\n"
    }
   }
  },
  {
   "cell_type": "code",
   "execution_count": 12,
   "outputs": [],
   "source": [
    "min_x, max_x, min_y, max_y = df['X'].min(), \\\n",
    "                             df['X'].max(),\\\n",
    "                             df['Y'].min(),\\\n",
    "                             df['Y'].max()"
   ],
   "metadata": {
    "collapsed": false,
    "pycharm": {
     "name": "#%%\n"
    }
   }
  },
  {
   "cell_type": "markdown",
   "source": [
    "### Create 10x10 grids"
   ],
   "metadata": {
    "collapsed": false
   }
  },
  {
   "cell_type": "code",
   "execution_count": 13,
   "outputs": [],
   "source": [
    "from shapely.geometry import Polygon\n",
    "from shapely import wkt\n",
    "import seaborn as sn\n",
    "\n",
    "\n",
    "\n",
    "def create_grids(min_x, max_x, min_y, max_y, num_x=10, num_y=10):\n",
    "    xcoords = np.linspace(min_x, max_x, num_x+1)\n",
    "    ycoords = np.linspace(min_y, max_y, num_y+1)\n",
    "    grids = []\n",
    "    indice = []\n",
    "    for i in range(num_x):\n",
    "        [x_left, x_right] = xcoords[i:i+2]\n",
    "        for j in range(num_y):\n",
    "            [y_bot, y_top] = ycoords[j:j+2]\n",
    "            polygon = Polygon([(x_left, y_top), (x_right, y_top),\n",
    "                             (x_right, y_bot), (x_left, y_bot)])\n",
    "            grids.append(polygon)\n",
    "            indice.append((i, j))\n",
    "    df = pd.DataFrame({'grid number': np.arange(\n",
    "        1, len(grids)+1), 'grid index': indice, 'polygon': grids})\n",
    "    return grids, df\n",
    "\n",
    "\n",
    "def count_events_in_grids(pts, grids):\n",
    "    counts = []\n",
    "    for i in range(len(grids)):\n",
    "        count = np.array([grids[i].contains(pt) for pt in pts\n",
    "                          ]).sum()\n",
    "        counts.append(count)\n",
    "    return np.array(counts)\n",
    "\n",
    "\n",
    "def create_heatmap_time_series(df, grids, period=2,\n",
    "                               rolling_window=False,\n",
    "                               num_x=10, num_y=10,\n",
    "                               min_date=None, max_date=None):\n",
    "    heatmaps = {}\n",
    "\n",
    "    # df['Date'] = pd.to_datetime(df['Date'])\n",
    "    # df.index = df['Date']\n",
    "    # df = df.sort_index()\n",
    "\n",
    "    time_delta = np.timedelta64(period, 'D')\n",
    "\n",
    "    start_date = min_date\n",
    "    end_date = start_date+time_delta\n",
    "    i = 0\n",
    "    print(\"min date:{}, max date:{}\".format(min_date,max_date))\n",
    "\n",
    "    while end_date <= max_date:\n",
    "        df_temp = df[start_date:end_date]\n",
    "        h = count_events_in_grids(df_temp['Location'].values, grids)\n",
    "        h.reshape(num_x, num_y)\n",
    "        heatmaps[np.datetime_as_string(start_date, unit='D')] = h\n",
    "        if rolling_window:\n",
    "            start_date = start_date + np.timedelta64(1, 'D')\n",
    "        else:\n",
    "            start_date = end_date\n",
    "        end_date = start_date + time_delta\n",
    "        i+=1\n",
    "        if i%365==0:\n",
    "            print(\"processing for date: {}\".format(end_date))\n",
    "    return heatmaps\n",
    "    print(end_date)"
   ],
   "metadata": {
    "collapsed": false,
    "pycharm": {
     "name": "#%%\n"
    }
   }
  },
  {
   "cell_type": "code",
   "execution_count": 14,
   "outputs": [
    {
     "data": {
      "text/plain": "    grid number grid index                                            polygon\n0             1     (0, 0)  POLYGON ((-123.1942106 49.215675364, -123.1774...\n1             2     (0, 1)  POLYGON ((-123.1942106 49.224242118, -123.1774...\n2             3     (0, 2)  POLYGON ((-123.1942106 49.232808872, -123.1774...\n3             4     (0, 3)  POLYGON ((-123.1942106 49.241375626, -123.1774...\n4             5     (0, 4)  POLYGON ((-123.1942106 49.24994238, -123.17743...\n..          ...        ...                                                ...\n95           96     (9, 5)  POLYGON ((-123.04322768 49.258509134, -123.026...\n96           97     (9, 6)  POLYGON ((-123.04322768 49.267075888, -123.026...\n97           98     (9, 7)  POLYGON ((-123.04322768 49.275642642, -123.026...\n98           99     (9, 8)  POLYGON ((-123.04322768 49.284209396, -123.026...\n99          100     (9, 9)  POLYGON ((-123.04322768 49.29277615, -123.0264...\n\n[100 rows x 3 columns]",
      "text/html": "<div>\n<style scoped>\n    .dataframe tbody tr th:only-of-type {\n        vertical-align: middle;\n    }\n\n    .dataframe tbody tr th {\n        vertical-align: top;\n    }\n\n    .dataframe thead th {\n        text-align: right;\n    }\n</style>\n<table border=\"1\" class=\"dataframe\">\n  <thead>\n    <tr style=\"text-align: right;\">\n      <th></th>\n      <th>grid number</th>\n      <th>grid index</th>\n      <th>polygon</th>\n    </tr>\n  </thead>\n  <tbody>\n    <tr>\n      <th>0</th>\n      <td>1</td>\n      <td>(0, 0)</td>\n      <td>POLYGON ((-123.1942106 49.215675364, -123.1774...</td>\n    </tr>\n    <tr>\n      <th>1</th>\n      <td>2</td>\n      <td>(0, 1)</td>\n      <td>POLYGON ((-123.1942106 49.224242118, -123.1774...</td>\n    </tr>\n    <tr>\n      <th>2</th>\n      <td>3</td>\n      <td>(0, 2)</td>\n      <td>POLYGON ((-123.1942106 49.232808872, -123.1774...</td>\n    </tr>\n    <tr>\n      <th>3</th>\n      <td>4</td>\n      <td>(0, 3)</td>\n      <td>POLYGON ((-123.1942106 49.241375626, -123.1774...</td>\n    </tr>\n    <tr>\n      <th>4</th>\n      <td>5</td>\n      <td>(0, 4)</td>\n      <td>POLYGON ((-123.1942106 49.24994238, -123.17743...</td>\n    </tr>\n    <tr>\n      <th>...</th>\n      <td>...</td>\n      <td>...</td>\n      <td>...</td>\n    </tr>\n    <tr>\n      <th>95</th>\n      <td>96</td>\n      <td>(9, 5)</td>\n      <td>POLYGON ((-123.04322768 49.258509134, -123.026...</td>\n    </tr>\n    <tr>\n      <th>96</th>\n      <td>97</td>\n      <td>(9, 6)</td>\n      <td>POLYGON ((-123.04322768 49.267075888, -123.026...</td>\n    </tr>\n    <tr>\n      <th>97</th>\n      <td>98</td>\n      <td>(9, 7)</td>\n      <td>POLYGON ((-123.04322768 49.275642642, -123.026...</td>\n    </tr>\n    <tr>\n      <th>98</th>\n      <td>99</td>\n      <td>(9, 8)</td>\n      <td>POLYGON ((-123.04322768 49.284209396, -123.026...</td>\n    </tr>\n    <tr>\n      <th>99</th>\n      <td>100</td>\n      <td>(9, 9)</td>\n      <td>POLYGON ((-123.04322768 49.29277615, -123.0264...</td>\n    </tr>\n  </tbody>\n</table>\n<p>100 rows × 3 columns</p>\n</div>"
     },
     "execution_count": 14,
     "metadata": {},
     "output_type": "execute_result"
    }
   ],
   "source": [
    "grids, df_grids = create_grids(min_x,max_x,min_y,max_y)\n",
    "df_grids"
   ],
   "metadata": {
    "collapsed": false,
    "pycharm": {
     "name": "#%%\n"
    }
   }
  },
  {
   "cell_type": "code",
   "execution_count": 15,
   "outputs": [],
   "source": [
    "df_grids.to_csv('grids-10x10.csv')"
   ],
   "metadata": {
    "collapsed": false,
    "pycharm": {
     "name": "#%%\n"
    }
   }
  },
  {
   "cell_type": "markdown",
   "source": [
    "### Extract daily time series of the heatmaps for all 5 categories of data"
   ],
   "metadata": {
    "collapsed": false
   }
  },
  {
   "cell_type": "code",
   "execution_count": 16,
   "outputs": [
    {
     "data": {
      "text/plain": "Theft from Vehicle                                        164065\nMischief                                                   68030\nBreak and Enter Residential/Other                          58011\nOther Theft                                                51902\nTheft of Vehicle                                           36640\nBreak and Enter Commercial                                 32589\nTheft of Bicycle                                           25068\nVehicle Collision or Pedestrian Struck (with Injury)       20703\nVehicle Collision or Pedestrian Struck (with Fatality)       234\nName: Type, dtype: int64"
     },
     "execution_count": 16,
     "metadata": {},
     "output_type": "execute_result"
    }
   ],
   "source": [
    "\n",
    "df.Type.value_counts()\n"
   ],
   "metadata": {
    "collapsed": false,
    "pycharm": {
     "name": "#%%\n"
    }
   }
  },
  {
   "cell_type": "code",
   "execution_count": 17,
   "outputs": [],
   "source": [
    "df = df[df['Type'].isin(df.Type.value_counts().index.values[:4])]\n"
   ],
   "metadata": {
    "collapsed": false,
    "pycharm": {
     "name": "#%%\n"
    }
   }
  },
  {
   "cell_type": "code",
   "execution_count": 18,
   "outputs": [
    {
     "data": {
      "text/plain": "array(['Theft from Vehicle', 'Mischief',\n       'Break and Enter Residential/Other', 'Other Theft'], dtype=object)"
     },
     "execution_count": 18,
     "metadata": {},
     "output_type": "execute_result"
    }
   ],
   "source": [
    "types = df.Type.value_counts().index.values\n",
    "types"
   ],
   "metadata": {
    "collapsed": false,
    "pycharm": {
     "name": "#%%\n"
    }
   }
  },
  {
   "cell_type": "code",
   "execution_count": 19,
   "outputs": [
    {
     "name": "stderr",
     "output_type": "stream",
     "text": [
      "<ipython-input-19-7a4808138f61>:1: SettingWithCopyWarning: \n",
      "A value is trying to be set on a copy of a slice from a DataFrame.\n",
      "Try using .loc[row_indexer,col_indexer] = value instead\n",
      "\n",
      "See the caveats in the documentation: https://pandas.pydata.org/pandas-docs/stable/user_guide/indexing.html#returning-a-view-versus-a-copy\n",
      "  df['Date'] = pd.to_datetime(df['Date'])\n"
     ]
    }
   ],
   "source": [
    "df['Date'] = pd.to_datetime(df['Date'])\n",
    "df.index = df['Date']\n",
    "df = df.sort_index()\n"
   ],
   "metadata": {
    "collapsed": false,
    "pycharm": {
     "name": "#%%\n"
    }
   }
  },
  {
   "cell_type": "code",
   "execution_count": 20,
   "outputs": [
    {
     "data": {
      "text/plain": "4"
     },
     "execution_count": 20,
     "metadata": {},
     "output_type": "execute_result"
    }
   ],
   "source": [
    "dfs = []\n",
    "for i in range(len(types)):\n",
    "  dfs.append(df[df['Type'] == types[i]])\n",
    "\n",
    "len(dfs)"
   ],
   "metadata": {
    "collapsed": false,
    "pycharm": {
     "name": "#%%\n"
    }
   }
  },
  {
   "cell_type": "code",
   "execution_count": 21,
   "outputs": [
    {
     "data": {
      "text/plain": "(numpy.datetime64('2003-01-01T00:00:00.000000000'),\n numpy.datetime64('2017-07-13T00:00:00.000000000'))"
     },
     "execution_count": 21,
     "metadata": {},
     "output_type": "execute_result"
    }
   ],
   "source": [
    "df.index.values.min(),df.index.values.max()"
   ],
   "metadata": {
    "collapsed": false,
    "pycharm": {
     "name": "#%%\n"
    }
   }
  },
  {
   "cell_type": "code",
   "execution_count": 22,
   "outputs": [
    {
     "name": "stdout",
     "output_type": "stream",
     "text": [
      "5295 days\n"
     ]
    }
   ],
   "source": [
    "train_periods = []\n",
    "val_periods = []\n",
    "test_periods = []\n",
    "time_delta_9 = np.timedelta64(700, 'D')\n",
    "time_delta_1 = np.timedelta64(100,'D')\n",
    "time_delta_2 = np.timedelta64(200,'D')\n",
    "start = np.datetime64('2003-01-01')\n",
    "max_date = np.datetime64('2017-07-01')\n",
    "print(max_date-start)\n"
   ],
   "metadata": {
    "collapsed": false,
    "pycharm": {
     "name": "#%%\n"
    }
   }
  },
  {
   "cell_type": "code",
   "execution_count": 23,
   "outputs": [],
   "source": [
    "end = start\n",
    "while end<max_date:\n",
    "    end = start + time_delta_9\n",
    "    if end>max_date:\n",
    "        end = max_date\n",
    "        train_periods.append((start, end))\n",
    "        break\n",
    "    train_periods.append((start, end))\n",
    "    start = end\n",
    "    end = start + time_delta_1\n",
    "    val_periods.append((start, end))\n",
    "    start = end\n",
    "    end = start + time_delta_2\n",
    "    if end+time_delta_9>max_date:\n",
    "        end = max_date\n",
    "    test_periods.append((start, end))\n",
    "    start = end"
   ],
   "metadata": {
    "collapsed": false,
    "pycharm": {
     "name": "#%%\n"
    }
   }
  },
  {
   "cell_type": "code",
   "execution_count": 24,
   "outputs": [
    {
     "data": {
      "text/plain": "[(numpy.datetime64('2003-01-01'), numpy.datetime64('2004-12-01')),\n (numpy.datetime64('2005-09-27'), numpy.datetime64('2007-08-28')),\n (numpy.datetime64('2008-06-23'), numpy.datetime64('2010-05-24')),\n (numpy.datetime64('2011-03-20'), numpy.datetime64('2013-02-17')),\n (numpy.datetime64('2013-12-14'), numpy.datetime64('2015-11-14'))]"
     },
     "execution_count": 24,
     "metadata": {},
     "output_type": "execute_result"
    }
   ],
   "source": [
    "train_periods"
   ],
   "metadata": {
    "collapsed": false,
    "pycharm": {
     "name": "#%%\n"
    }
   }
  },
  {
   "cell_type": "code",
   "execution_count": 25,
   "outputs": [
    {
     "name": "stdout",
     "output_type": "stream",
     "text": [
      "min date:2003-01-01, max date:2004-12-01\n",
      "processing for date: 2004-01-08\n",
      "min date:2003-01-01, max date:2004-12-01\n",
      "processing for date: 2004-01-08\n",
      "min date:2003-01-01, max date:2004-12-01\n",
      "processing for date: 2004-01-08\n",
      "min date:2003-01-01, max date:2004-12-01\n",
      "processing for date: 2004-01-08\n",
      "min date:2005-09-27, max date:2007-08-28\n",
      "processing for date: 2006-10-04\n",
      "min date:2005-09-27, max date:2007-08-28\n",
      "processing for date: 2006-10-04\n",
      "min date:2005-09-27, max date:2007-08-28\n",
      "processing for date: 2006-10-04\n",
      "min date:2005-09-27, max date:2007-08-28\n",
      "processing for date: 2006-10-04\n",
      "min date:2008-06-23, max date:2010-05-24\n",
      "processing for date: 2009-06-30\n",
      "min date:2008-06-23, max date:2010-05-24\n",
      "processing for date: 2009-06-30\n",
      "min date:2008-06-23, max date:2010-05-24\n",
      "processing for date: 2009-06-30\n",
      "min date:2008-06-23, max date:2010-05-24\n",
      "processing for date: 2009-06-30\n",
      "min date:2011-03-20, max date:2013-02-17\n",
      "processing for date: 2012-03-26\n",
      "min date:2011-03-20, max date:2013-02-17\n",
      "processing for date: 2012-03-26\n",
      "min date:2011-03-20, max date:2013-02-17\n",
      "processing for date: 2012-03-26\n",
      "min date:2011-03-20, max date:2013-02-17\n",
      "processing for date: 2012-03-26\n",
      "min date:2013-12-14, max date:2015-11-14\n",
      "processing for date: 2014-12-21\n",
      "min date:2013-12-14, max date:2015-11-14\n",
      "processing for date: 2014-12-21\n",
      "min date:2013-12-14, max date:2015-11-14\n",
      "processing for date: 2014-12-21\n",
      "min date:2013-12-14, max date:2015-11-14\n",
      "processing for date: 2014-12-21\n"
     ]
    }
   ],
   "source": [
    "hmaps_train_all = []\n",
    "\n",
    "for train_period in train_periods:\n",
    "    hmaps_train = []\n",
    "    for i in range(len(types)):\n",
    "        min_date, max_date = train_period\n",
    "        train = create_heatmap_time_series(dfs[i], grids,\n",
    "                                         rolling_window=True, period=7,\n",
    "                                         min_date = min_date,\n",
    "                                         max_date = max_date)\n",
    "        hmap_train = np.array(list(train.values())).reshape((-1,10,10))\n",
    "        hmaps_train.append(hmap_train)\n",
    "    hmaps_train = np.stack(hmaps_train,axis=1)\n",
    "    hmaps_train_all.append(hmaps_train)"
   ],
   "metadata": {
    "collapsed": false,
    "pycharm": {
     "name": "#%%\n"
    }
   }
  },
  {
   "cell_type": "code",
   "execution_count": 26,
   "outputs": [
    {
     "name": "stdout",
     "output_type": "stream",
     "text": [
      "(694, 4, 10, 10)\n",
      "(3470, 4, 10, 10)\n"
     ]
    },
    {
     "data": {
      "text/plain": "(5, 694, 4, 10, 10)"
     },
     "execution_count": 26,
     "metadata": {},
     "output_type": "execute_result"
    }
   ],
   "source": [
    "print(hmaps_train_all[0].shape)\n",
    "data_train = np.concatenate(hmaps_train_all, axis = 0)\n",
    "print(data_train.shape)\n",
    "np.save('train', data_train)\n",
    "np.save('train_by_periods', np.array(hmaps_train_all, dtype=object))\n",
    "np.array(hmaps_train_all, dtype=object).shape"
   ],
   "metadata": {
    "collapsed": false,
    "pycharm": {
     "name": "#%%\n"
    }
   }
  },
  {
   "cell_type": "code",
   "execution_count": 27,
   "outputs": [
    {
     "data": {
      "text/plain": "144160"
     },
     "execution_count": 27,
     "metadata": {},
     "output_type": "execute_result"
    }
   ],
   "source": [
    "hmaps_train_all[2][:,0].sum()"
   ],
   "metadata": {
    "collapsed": false,
    "pycharm": {
     "name": "#%%\n"
    }
   }
  },
  {
   "cell_type": "code",
   "execution_count": 28,
   "outputs": [
    {
     "name": "stdout",
     "output_type": "stream",
     "text": [
      "min date:2004-12-01, max date:2005-03-11\n",
      "min date:2004-12-01, max date:2005-03-11\n",
      "min date:2004-12-01, max date:2005-03-11\n",
      "min date:2004-12-01, max date:2005-03-11\n",
      "min date:2007-08-28, max date:2007-12-06\n",
      "min date:2007-08-28, max date:2007-12-06\n",
      "min date:2007-08-28, max date:2007-12-06\n",
      "min date:2007-08-28, max date:2007-12-06\n",
      "min date:2010-05-24, max date:2010-09-01\n",
      "min date:2010-05-24, max date:2010-09-01\n",
      "min date:2010-05-24, max date:2010-09-01\n",
      "min date:2010-05-24, max date:2010-09-01\n",
      "min date:2013-02-17, max date:2013-05-28\n",
      "min date:2013-02-17, max date:2013-05-28\n",
      "min date:2013-02-17, max date:2013-05-28\n",
      "min date:2013-02-17, max date:2013-05-28\n",
      "min date:2015-11-14, max date:2016-02-22\n",
      "min date:2015-11-14, max date:2016-02-22\n",
      "min date:2015-11-14, max date:2016-02-22\n",
      "min date:2015-11-14, max date:2016-02-22\n"
     ]
    }
   ],
   "source": [
    "hmaps_valid_all = []\n",
    "\n",
    "for val_period in val_periods:\n",
    "    hmaps_val = []\n",
    "    for i in range(len(types)):\n",
    "        min_date, max_date = val_period\n",
    "        val = create_heatmap_time_series(dfs[i], grids,\n",
    "                                         rolling_window=True, period=7,\n",
    "                                         min_date = min_date,\n",
    "                                         max_date = max_date)\n",
    "        hmap_val = np.array(list(val.values())).reshape((-1,10,10))\n",
    "        hmaps_val.append(hmap_val)\n",
    "    hmaps_val = np.stack(hmaps_val,axis=1)\n",
    "    hmaps_valid_all.append(hmaps_val)"
   ],
   "metadata": {
    "collapsed": false,
    "pycharm": {
     "name": "#%%\n"
    }
   }
  },
  {
   "cell_type": "code",
   "execution_count": 29,
   "outputs": [
    {
     "name": "stdout",
     "output_type": "stream",
     "text": [
      "(94, 4, 10, 10)\n"
     ]
    },
    {
     "data": {
      "text/plain": "(5, 94, 4, 10, 10)"
     },
     "execution_count": 29,
     "metadata": {},
     "output_type": "execute_result"
    }
   ],
   "source": [
    "print(hmaps_valid_all[0].shape)\n",
    "data_valid = np.concatenate(hmaps_valid_all, axis = 0)\n",
    "np.save('valid', data_valid)\n",
    "np.save('valid_by_periods', np.array(hmaps_valid_all))\n",
    "np.array(hmaps_valid_all).shape"
   ],
   "metadata": {
    "collapsed": false,
    "pycharm": {
     "name": "#%%\n"
    }
   }
  },
  {
   "cell_type": "code",
   "execution_count": 30,
   "outputs": [
    {
     "name": "stdout",
     "output_type": "stream",
     "text": [
      "min date:2005-03-11, max date:2005-09-27\n",
      "min date:2005-03-11, max date:2005-09-27\n",
      "min date:2005-03-11, max date:2005-09-27\n",
      "min date:2005-03-11, max date:2005-09-27\n",
      "min date:2007-12-06, max date:2008-06-23\n",
      "min date:2007-12-06, max date:2008-06-23\n",
      "min date:2007-12-06, max date:2008-06-23\n",
      "min date:2007-12-06, max date:2008-06-23\n",
      "min date:2010-09-01, max date:2011-03-20\n",
      "min date:2010-09-01, max date:2011-03-20\n",
      "min date:2010-09-01, max date:2011-03-20\n",
      "min date:2010-09-01, max date:2011-03-20\n",
      "min date:2013-05-28, max date:2013-12-14\n",
      "min date:2013-05-28, max date:2013-12-14\n",
      "min date:2013-05-28, max date:2013-12-14\n",
      "min date:2013-05-28, max date:2013-12-14\n",
      "min date:2016-02-22, max date:2017-07-01\n",
      "processing for date: 2017-02-28\n",
      "min date:2016-02-22, max date:2017-07-01\n",
      "processing for date: 2017-02-28\n",
      "min date:2016-02-22, max date:2017-07-01\n",
      "processing for date: 2017-02-28\n",
      "min date:2016-02-22, max date:2017-07-01\n",
      "processing for date: 2017-02-28\n"
     ]
    }
   ],
   "source": [
    "hmaps_test_all = []\n",
    "\n",
    "for test_period in test_periods:\n",
    "    hmaps_test = []\n",
    "    for i in range(len(types)):\n",
    "        min_date, max_date = test_period\n",
    "        val = create_heatmap_time_series(dfs[i], grids,\n",
    "                                         rolling_window=True, period=7,\n",
    "                                         min_date = min_date,\n",
    "                                         max_date = max_date)\n",
    "        hmap_test = np.array(list(val.values())).reshape((-1,10,10))\n",
    "        hmaps_test.append(hmap_test)\n",
    "    hmaps_test = np.stack(hmaps_test,axis=1)\n",
    "    hmaps_test_all.append(hmaps_test)"
   ],
   "metadata": {
    "collapsed": false,
    "pycharm": {
     "name": "#%%\n"
    }
   }
  },
  {
   "cell_type": "code",
   "execution_count": 31,
   "outputs": [
    {
     "name": "stdout",
     "output_type": "stream",
     "text": [
      "(194, 4, 10, 10)\n"
     ]
    },
    {
     "name": "stderr",
     "output_type": "stream",
     "text": [
      "<ipython-input-31-ecc16ddb86c3>:5: VisibleDeprecationWarning: Creating an ndarray from ragged nested sequences (which is a list-or-tuple of lists-or-tuples-or ndarrays with different lengths or shapes) is deprecated. If you meant to do this, you must specify 'dtype=object' when creating the ndarray\n",
      "  np.array(hmaps_test_all).shape\n"
     ]
    },
    {
     "data": {
      "text/plain": "(5,)"
     },
     "execution_count": 31,
     "metadata": {},
     "output_type": "execute_result"
    }
   ],
   "source": [
    "print(hmaps_test_all[0].shape)\n",
    "data_test = np.concatenate(hmaps_test_all, axis = 0)\n",
    "np.save('test', data_valid)\n",
    "np.save('test_by_periods', np.array(hmaps_valid_all))\n",
    "np.array(hmaps_test_all).shape"
   ],
   "metadata": {
    "collapsed": false,
    "pycharm": {
     "name": "#%%\n"
    }
   }
  },
  {
   "cell_type": "code",
   "execution_count": 32,
   "outputs": [
    {
     "data": {
      "text/plain": "694"
     },
     "execution_count": 32,
     "metadata": {},
     "output_type": "execute_result"
    }
   ],
   "source": [
    "len(train)"
   ],
   "metadata": {
    "collapsed": false,
    "pycharm": {
     "name": "#%%\n"
    }
   }
  },
  {
   "cell_type": "code",
   "execution_count": 33,
   "outputs": [],
   "source": [
    "from sklearn.model_selection import train_test_split\n",
    "m=5\n",
    "n=3\n",
    "step = 7\n",
    "seq = []\n",
    "for data_train in hmaps_train_all:\n",
    "    for t0 in range(len(data_train)-(m+n)*step+1):\n",
    "          observed = data_train[t0:t0+step*m:step]\n",
    "          target = data_train[t0+step*m:t0+step*(m+n):step]\n",
    "          seq.append(np.append(observed, target,axis=0))\n",
    "    #seq shape: (N-(m+n)*step+1,m+n,1,10,10)\n",
    "\n",
    "np.save('seq_train', seq)"
   ],
   "metadata": {
    "collapsed": false,
    "pycharm": {
     "name": "#%%\n"
    }
   }
  },
  {
   "cell_type": "code",
   "execution_count": 34,
   "outputs": [
    {
     "data": {
      "text/plain": "3195"
     },
     "execution_count": 34,
     "metadata": {},
     "output_type": "execute_result"
    }
   ],
   "source": [
    "len(seq)"
   ],
   "metadata": {
    "collapsed": false,
    "pycharm": {
     "name": "#%%\n"
    }
   }
  },
  {
   "cell_type": "code",
   "execution_count": 35,
   "outputs": [
    {
     "data": {
      "text/plain": "195"
     },
     "execution_count": 35,
     "metadata": {},
     "output_type": "execute_result"
    }
   ],
   "source": [
    "m=5\n",
    "n=3\n",
    "step = 7\n",
    "seq_val = []\n",
    "for data_valid in hmaps_valid_all:\n",
    "    for t0 in range(len(data_valid)-(m+n)*step+1):\n",
    "          observed = data_valid[t0:t0+step*m:step]\n",
    "          target = data_valid[t0+step*m:t0+step*(m+n):step]\n",
    "          seq_val.append(np.append(observed, target,axis=0))\n",
    "    #seq shape: (N-(m+n)*step+1,m+n,1,10,10)\n",
    "\n",
    "np.save('seq_valid', seq_val)\n",
    "len(seq_val)"
   ],
   "metadata": {
    "collapsed": false,
    "pycharm": {
     "name": "#%%\n"
    }
   }
  },
  {
   "cell_type": "code",
   "execution_count": 36,
   "outputs": [
    {
     "data": {
      "text/plain": "990"
     },
     "execution_count": 36,
     "metadata": {},
     "output_type": "execute_result"
    }
   ],
   "source": [
    "m=5\n",
    "n=3\n",
    "step = 7\n",
    "seq_test = []\n",
    "for data_test in hmaps_test_all:\n",
    "    for t0 in range(len(data_test)-(m+n)*step+1):\n",
    "          observed = data_test[t0:t0+step*m:step]\n",
    "          target = data_test[t0+step*m:t0+step*(m+n):step]\n",
    "          seq_test.append(np.append(observed, target,axis=0))\n",
    "    #seq shape: (N-(m+n)*step+1,m+n,1,10,10)\n",
    "\n",
    "np.save('seq_test', seq_test)\n",
    "len(seq_test)"
   ],
   "metadata": {
    "collapsed": false,
    "pycharm": {
     "name": "#%%\n"
    }
   }
  },
  {
   "cell_type": "code",
   "execution_count": 37,
   "outputs": [
    {
     "data": {
      "text/plain": "(3195, 8, 4, 10, 10)"
     },
     "execution_count": 37,
     "metadata": {},
     "output_type": "execute_result"
    }
   ],
   "source": [
    "np.array(seq).shape"
   ],
   "metadata": {
    "collapsed": false,
    "pycharm": {
     "name": "#%%\n"
    }
   }
  },
  {
   "cell_type": "code",
   "execution_count": 38,
   "outputs": [
    {
     "data": {
      "text/plain": "array([145978,  64200,  43287,  66971])"
     },
     "execution_count": 38,
     "metadata": {},
     "output_type": "execute_result"
    }
   ],
   "source": [
    "np.sum(data_train, axis=(0,2,3))"
   ],
   "metadata": {
    "collapsed": false,
    "pycharm": {
     "name": "#%%\n"
    }
   }
  },
  {
   "cell_type": "code",
   "execution_count": 39,
   "outputs": [
    {
     "data": {
      "text/plain": "array([27941,  8590,  8029, 10358])"
     },
     "execution_count": 39,
     "metadata": {},
     "output_type": "execute_result"
    }
   ],
   "source": [
    "np.sum(data_valid, axis=(0,2,3))"
   ],
   "metadata": {
    "collapsed": false,
    "pycharm": {
     "name": "#%%\n"
    }
   }
  },
  {
   "cell_type": "markdown",
   "source": [
    "## heatmap at ts=1 of different categories"
   ],
   "metadata": {
    "collapsed": false
   }
  },
  {
   "cell_type": "code",
   "execution_count": 40,
   "outputs": [
    {
     "data": {
      "text/plain": "<AxesSubplot:>"
     },
     "execution_count": 40,
     "metadata": {},
     "output_type": "execute_result"
    },
    {
     "data": {
      "text/plain": "<Figure size 432x288 with 2 Axes>",
      "image/png": "[encoded data removed]"
     },
     "metadata": {
      "needs_background": "light"
     },
     "output_type": "display_data"
    }
   ],
   "source": [
    "sn.heatmap(data_train[0,0],cmap='cool')"
   ],
   "metadata": {
    "collapsed": false,
    "pycharm": {
     "name": "#%%\n"
    }
   }
  },
  {
   "cell_type": "code",
   "execution_count": 41,
   "outputs": [
    {
     "data": {
      "text/plain": "<AxesSubplot:>"
     },
     "execution_count": 41,
     "metadata": {},
     "output_type": "execute_result"
    },
    {
     "data": {
      "text/plain": "<Figure size 432x288 with 2 Axes>",
      "image/png": "[encoded data removed]"
     },
     "metadata": {
      "needs_background": "light"
     },
     "output_type": "display_data"
    }
   ],
   "source": [
    "\n",
    "sn.heatmap(hmaps_train_all[-1][1,0],cmap='cool')"
   ],
   "metadata": {
    "collapsed": false,
    "pycharm": {
     "name": "#%%\n"
    }
   }
  },
  {
   "cell_type": "code",
   "execution_count": 42,
   "outputs": [
    {
     "data": {
      "text/plain": "<AxesSubplot:>"
     },
     "execution_count": 42,
     "metadata": {},
     "output_type": "execute_result"
    },
    {
     "data": {
      "text/plain": "<Figure size 432x288 with 2 Axes>",
      "image/png": "[encoded data removed]"
     },
     "metadata": {
      "needs_background": "light"
     },
     "output_type": "display_data"
    }
   ],
   "source": [
    "sn.heatmap(data_train[0,1],cmap='cool')"
   ],
   "metadata": {
    "collapsed": false,
    "pycharm": {
     "name": "#%%\n"
    }
   }
  },
  {
   "cell_type": "code",
   "execution_count": 43,
   "outputs": [
    {
     "data": {
      "text/plain": "<AxesSubplot:>"
     },
     "execution_count": 43,
     "metadata": {},
     "output_type": "execute_result"
    },
    {
     "data": {
      "text/plain": "<Figure size 432x288 with 2 Axes>",
      "image/png": "[encoded data removed]"
     },
     "metadata": {
      "needs_background": "light"
     },
     "output_type": "display_data"
    }
   ],
   "source": [
    "sn.heatmap(data_train[0,2],cmap='cool')"
   ],
   "metadata": {
    "collapsed": false,
    "pycharm": {
     "name": "#%%\n"
    }
   }
  },
  {
   "cell_type": "code",
   "execution_count": 44,
   "outputs": [
    {
     "data": {
      "text/plain": "<AxesSubplot:>"
     },
     "execution_count": 44,
     "metadata": {},
     "output_type": "execute_result"
    },
    {
     "data": {
      "text/plain": "<Figure size 432x288 with 2 Axes>",
      "image/png": "[encoded data removed]"
     },
     "metadata": {
      "needs_background": "light"
     },
     "output_type": "display_data"
    }
   ],
   "source": [
    "sn.heatmap(data_train[0,3],cmap='cool')"
   ],
   "metadata": {
    "collapsed": false,
    "pycharm": {
     "name": "#%%\n"
    }
   }
  },
  {
   "cell_type": "code",
   "execution_count": 44,
   "outputs": [],
   "source": [],
   "metadata": {
    "collapsed": false,
    "pycharm": {
     "name": "#%%\n"
    }
   }
  }
 ],
 "metadata": {
  "kernelspec": {
   "name": "pycharm-6ec1b404",
   "language": "python",
   "display_name": "PyCharm (MAPSED)"
  },
  "language_info": {
   "codemirror_mode": {
    "name": "ipython",
    "version": 2
   },
   "file_extension": ".py",
   "mimetype": "text/x-python",
   "name": "python",
   "nbconvert_exporter": "python",
   "pygments_lexer": "ipython2",
   "version": "2.7.6"
  }
 },
 "nbformat": 4,
 "nbformat_minor": 0
}